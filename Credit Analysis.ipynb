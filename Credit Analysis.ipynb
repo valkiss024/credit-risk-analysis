{
 "cells": [
  {
   "cell_type": "markdown",
   "id": "6192a476",
   "metadata": {},
   "source": [
    "# Credit Risk Analysis"
   ]
  },
  {
   "cell_type": "markdown",
   "id": "e736c859",
   "metadata": {},
   "source": [
    "## 1 - Research & Data Exploration"
   ]
  },
  {
   "cell_type": "markdown",
   "id": "2232b487",
   "metadata": {},
   "source": [
    "## Overview"
   ]
  },
  {
   "cell_type": "markdown",
   "id": "8c299915",
   "metadata": {},
   "source": [
    "***Objective***: The data used in this project is related to simulating credit bureau data. The aim of the project is to build and evaluate a classification model to predict whether an individual will default on their loan (y). In other words, whether or not they will make their re-payments on time. "
   ]
  },
  {
   "cell_type": "markdown",
   "id": "68111852",
   "metadata": {},
   "source": [
    "## Dataset Source\n",
    "\n",
    "_The Dataset used for this analysis is obtained from the Kaggle (https://www.kaggle.com/) website. Details about the dataset can be found here:_***https://www.kaggle.com/datasets/laotse/credit-risk-dataset/code***\n",
    "\n",
    "Dataset was accessed on: **31/10/2022**\n",
    "\n",
    "**Why was the dataset choosen?**"
   ]
  },
  {
   "cell_type": "markdown",
   "id": "677946be",
   "metadata": {},
   "source": [
    "## Exploratory Data Analysis"
   ]
  },
  {
   "cell_type": "markdown",
   "id": "9756112b",
   "metadata": {},
   "source": [
    "### <font color='green'>Load and Explore the Data</font>"
   ]
  },
  {
   "cell_type": "code",
   "execution_count": 1,
   "id": "1d64b595",
   "metadata": {},
   "outputs": [],
   "source": [
    "# Import relevant libraries\n",
    "import pandas as pd\n",
    "import matplotlib.pyplot as plt\n",
    "import seaborn as sns"
   ]
  },
  {
   "cell_type": "code",
   "execution_count": 2,
   "id": "09cd21cc",
   "metadata": {},
   "outputs": [],
   "source": [
    "# Use Pandas' .read_csv() function to load the dataset into a Pandas DataFrame and store it in a variable\n",
    "credit = pd.read_csv('credit_risk_dataset.csv')"
   ]
  },
  {
   "cell_type": "code",
   "execution_count": 3,
   "id": "5cef2cd9",
   "metadata": {},
   "outputs": [
    {
     "name": "stdout",
     "output_type": "stream",
     "text": [
      "The dataset contains: 32581 observations and 12 features.\n"
     ]
    }
   ],
   "source": [
    "# Print the number of rows and columns in the DataFrame\n",
    "print(f'The dataset contains: {credit.shape[0]} observations and {credit.shape[1]} features.')"
   ]
  },
  {
   "cell_type": "code",
   "execution_count": 4,
   "id": "70429a2d",
   "metadata": {
    "scrolled": true
   },
   "outputs": [
    {
     "data": {
      "text/plain": [
       "Index(['person_age', 'person_income', 'person_home_ownership',\n",
       "       'person_emp_length', 'loan_intent', 'loan_grade', 'loan_amnt',\n",
       "       'loan_int_rate', 'loan_status', 'loan_percent_income',\n",
       "       'cb_person_default_on_file', 'cb_person_cred_hist_length'],\n",
       "      dtype='object')"
      ]
     },
     "execution_count": 4,
     "metadata": {},
     "output_type": "execute_result"
    }
   ],
   "source": [
    "# Save the features into a variable called 'columns' for easy access later on\n",
    "columns = credit.columns\n",
    "# Inspect features\n",
    "columns"
   ]
  },
  {
   "cell_type": "code",
   "execution_count": 5,
   "id": "29267487",
   "metadata": {},
   "outputs": [
    {
     "name": "stdout",
     "output_type": "stream",
     "text": [
      "person_age \t 58\n",
      "person_income \t 4295\n",
      "person_home_ownership \t 4\n",
      "person_emp_length \t 37\n",
      "loan_intent \t 6\n",
      "loan_grade \t 7\n",
      "loan_amnt \t 753\n",
      "loan_int_rate \t 349\n",
      "loan_status \t 2\n",
      "loan_percent_income \t 77\n",
      "cb_person_default_on_file \t 2\n",
      "cb_person_cred_hist_length \t 29\n"
     ]
    }
   ],
   "source": [
    "# Number of unique values present in each column\n",
    "def get_unique_values(columns):\n",
    "    for i in columns:\n",
    "        print(i, '\\t', len(credit[i].unique()))\n",
    "\n",
    "get_unique_values(columns)"
   ]
  },
  {
   "cell_type": "code",
   "execution_count": 6,
   "id": "6e0c790c",
   "metadata": {},
   "outputs": [
    {
     "data": {
      "text/html": [
       "<div>\n",
       "<style scoped>\n",
       "    .dataframe tbody tr th:only-of-type {\n",
       "        vertical-align: middle;\n",
       "    }\n",
       "\n",
       "    .dataframe tbody tr th {\n",
       "        vertical-align: top;\n",
       "    }\n",
       "\n",
       "    .dataframe thead th {\n",
       "        text-align: right;\n",
       "    }\n",
       "</style>\n",
       "<table border=\"1\" class=\"dataframe\">\n",
       "  <thead>\n",
       "    <tr style=\"text-align: right;\">\n",
       "      <th></th>\n",
       "      <th>person_age</th>\n",
       "      <th>person_income</th>\n",
       "      <th>person_home_ownership</th>\n",
       "      <th>person_emp_length</th>\n",
       "      <th>loan_intent</th>\n",
       "      <th>loan_grade</th>\n",
       "      <th>loan_amnt</th>\n",
       "      <th>loan_int_rate</th>\n",
       "      <th>loan_status</th>\n",
       "      <th>loan_percent_income</th>\n",
       "      <th>cb_person_default_on_file</th>\n",
       "      <th>cb_person_cred_hist_length</th>\n",
       "    </tr>\n",
       "  </thead>\n",
       "  <tbody>\n",
       "    <tr>\n",
       "      <th>0</th>\n",
       "      <td>22</td>\n",
       "      <td>59000</td>\n",
       "      <td>RENT</td>\n",
       "      <td>123.0</td>\n",
       "      <td>PERSONAL</td>\n",
       "      <td>D</td>\n",
       "      <td>35000</td>\n",
       "      <td>16.02</td>\n",
       "      <td>1</td>\n",
       "      <td>0.59</td>\n",
       "      <td>Y</td>\n",
       "      <td>3</td>\n",
       "    </tr>\n",
       "    <tr>\n",
       "      <th>1</th>\n",
       "      <td>21</td>\n",
       "      <td>9600</td>\n",
       "      <td>OWN</td>\n",
       "      <td>5.0</td>\n",
       "      <td>EDUCATION</td>\n",
       "      <td>B</td>\n",
       "      <td>1000</td>\n",
       "      <td>11.14</td>\n",
       "      <td>0</td>\n",
       "      <td>0.10</td>\n",
       "      <td>N</td>\n",
       "      <td>2</td>\n",
       "    </tr>\n",
       "    <tr>\n",
       "      <th>2</th>\n",
       "      <td>25</td>\n",
       "      <td>9600</td>\n",
       "      <td>MORTGAGE</td>\n",
       "      <td>1.0</td>\n",
       "      <td>MEDICAL</td>\n",
       "      <td>C</td>\n",
       "      <td>5500</td>\n",
       "      <td>12.87</td>\n",
       "      <td>1</td>\n",
       "      <td>0.57</td>\n",
       "      <td>N</td>\n",
       "      <td>3</td>\n",
       "    </tr>\n",
       "    <tr>\n",
       "      <th>3</th>\n",
       "      <td>23</td>\n",
       "      <td>65500</td>\n",
       "      <td>RENT</td>\n",
       "      <td>4.0</td>\n",
       "      <td>MEDICAL</td>\n",
       "      <td>C</td>\n",
       "      <td>35000</td>\n",
       "      <td>15.23</td>\n",
       "      <td>1</td>\n",
       "      <td>0.53</td>\n",
       "      <td>N</td>\n",
       "      <td>2</td>\n",
       "    </tr>\n",
       "    <tr>\n",
       "      <th>4</th>\n",
       "      <td>24</td>\n",
       "      <td>54400</td>\n",
       "      <td>RENT</td>\n",
       "      <td>8.0</td>\n",
       "      <td>MEDICAL</td>\n",
       "      <td>C</td>\n",
       "      <td>35000</td>\n",
       "      <td>14.27</td>\n",
       "      <td>1</td>\n",
       "      <td>0.55</td>\n",
       "      <td>Y</td>\n",
       "      <td>4</td>\n",
       "    </tr>\n",
       "  </tbody>\n",
       "</table>\n",
       "</div>"
      ],
      "text/plain": [
       "   person_age  person_income person_home_ownership  person_emp_length  \\\n",
       "0          22          59000                  RENT              123.0   \n",
       "1          21           9600                   OWN                5.0   \n",
       "2          25           9600              MORTGAGE                1.0   \n",
       "3          23          65500                  RENT                4.0   \n",
       "4          24          54400                  RENT                8.0   \n",
       "\n",
       "  loan_intent loan_grade  loan_amnt  loan_int_rate  loan_status  \\\n",
       "0    PERSONAL          D      35000          16.02            1   \n",
       "1   EDUCATION          B       1000          11.14            0   \n",
       "2     MEDICAL          C       5500          12.87            1   \n",
       "3     MEDICAL          C      35000          15.23            1   \n",
       "4     MEDICAL          C      35000          14.27            1   \n",
       "\n",
       "   loan_percent_income cb_person_default_on_file  cb_person_cred_hist_length  \n",
       "0                 0.59                         Y                           3  \n",
       "1                 0.10                         N                           2  \n",
       "2                 0.57                         N                           3  \n",
       "3                 0.53                         N                           2  \n",
       "4                 0.55                         Y                           4  "
      ]
     },
     "execution_count": 6,
     "metadata": {},
     "output_type": "execute_result"
    }
   ],
   "source": [
    "# Inspect the first five rows of the dataset\n",
    "credit.head()"
   ]
  },
  {
   "cell_type": "markdown",
   "id": "4390690d",
   "metadata": {},
   "source": [
    "<font color='green'>Checking the number of unique values in each column, as well as inspecting the first few rows of the DataFrame can give an initial feel to what kind of data is present in the dataset and how the data is structured. It can be assumed that the credit data contains both numerical and categorical variables</font>"
   ]
  },
  {
   "cell_type": "code",
   "execution_count": 7,
   "id": "5a1e01c0",
   "metadata": {},
   "outputs": [
    {
     "name": "stdout",
     "output_type": "stream",
     "text": [
      "<class 'pandas.core.frame.DataFrame'>\n",
      "RangeIndex: 32581 entries, 0 to 32580\n",
      "Data columns (total 12 columns):\n",
      " #   Column                      Non-Null Count  Dtype  \n",
      "---  ------                      --------------  -----  \n",
      " 0   person_age                  32581 non-null  int64  \n",
      " 1   person_income               32581 non-null  int64  \n",
      " 2   person_home_ownership       32581 non-null  object \n",
      " 3   person_emp_length           31686 non-null  float64\n",
      " 4   loan_intent                 32581 non-null  object \n",
      " 5   loan_grade                  32581 non-null  object \n",
      " 6   loan_amnt                   32581 non-null  int64  \n",
      " 7   loan_int_rate               29465 non-null  float64\n",
      " 8   loan_status                 32581 non-null  int64  \n",
      " 9   loan_percent_income         32581 non-null  float64\n",
      " 10  cb_person_default_on_file   32581 non-null  object \n",
      " 11  cb_person_cred_hist_length  32581 non-null  int64  \n",
      "dtypes: float64(3), int64(5), object(4)\n",
      "memory usage: 3.0+ MB\n"
     ]
    }
   ],
   "source": [
    "# Inspect data types and check for missing values in the dataset\n",
    "credit.info()"
   ]
  },
  {
   "cell_type": "markdown",
   "id": "aa49bfd6",
   "metadata": {},
   "source": [
    "<div class='alert alert-block alert-info'><u>Note:</u> Data types suggest a mixture of numeric and categorical features are present in the dataset!</div>"
   ]
  },
  {
   "cell_type": "markdown",
   "id": "090a050e",
   "metadata": {},
   "source": [
    "<div class='alert alert-block alert-info'><u>Note:</u> Varying column lengths suggest missing data is present in some of the columns!</div>"
   ]
  },
  {
   "cell_type": "markdown",
   "id": "1887140b",
   "metadata": {},
   "source": [
    "<font color='green'>The **.info()** function proves the initial assumption about the data types (***numerical*** - int and float, ***categorical*** - object (string)). Furthermore, the count of Non-Null differ for some of the features which means there are missing values in the dataset</font>"
   ]
  },
  {
   "cell_type": "code",
   "execution_count": 8,
   "id": "eeb91418",
   "metadata": {},
   "outputs": [
    {
     "data": {
      "text/plain": [
       "loan_int_rate                 9.56\n",
       "person_emp_length             2.75\n",
       "person_age                    0.00\n",
       "person_income                 0.00\n",
       "person_home_ownership         0.00\n",
       "loan_intent                   0.00\n",
       "loan_grade                    0.00\n",
       "loan_amnt                     0.00\n",
       "loan_status                   0.00\n",
       "loan_percent_income           0.00\n",
       "cb_person_default_on_file     0.00\n",
       "cb_person_cred_hist_length    0.00\n",
       "dtype: float64"
      ]
     },
     "execution_count": 8,
     "metadata": {},
     "output_type": "execute_result"
    }
   ],
   "source": [
    "# Ratio of missing values in the data set\n",
    "# Save the % of missing values for each feature in a Pandas Series in a descending order\n",
    "credit_missing = pd.Series(data=[round(credit[i].isnull().sum() / len(credit) * 100, 2) for i in columns], index=columns)\n",
    "credit_missing.sort_values(ascending=False)"
   ]
  },
  {
   "cell_type": "markdown",
   "id": "435f2ebe",
   "metadata": {},
   "source": [
    "<font color='green'> **Columns: 'loan_int_rate' and 'person_emp_length' contain missing values**. The proportion of missing values is relatively small in the employment length variable and slightly higher for the interest rate. Missing values will be handled at the _pre-processing stage_ before fitting the data to any Machine Learning model"
   ]
  },
  {
   "cell_type": "markdown",
   "id": "9f581b8a",
   "metadata": {},
   "source": [
    "### <font color='green'>Class Distribution</font>\n",
    "\n",
    "The target feature in the dataset that we are trying to predict: **loan_status**\n",
    "The status of the loan is represented as a binary variable where:\n",
    "> * **0** (False) &rarr; **Non-Default** (Loan re-payment successful)\n",
    "> * **1** (True) &rarr; **Default** (Loan re-payment failed)"
   ]
  },
  {
   "cell_type": "code",
   "execution_count": 9,
   "id": "5fc1c694",
   "metadata": {},
   "outputs": [],
   "source": [
    "# Create a copy of the dataset for visualization\n",
    "credit_copy = credit.copy()\n",
    "\n",
    "# Change the values of the target variable to allow easier interpretation\n",
    "credit_copy['loan_status'] = credit_copy['loan_status'].apply(lambda x: 'Default' if x == 1 else 'Non-Default')"
   ]
  },
  {
   "cell_type": "markdown",
   "id": "cb8c562e",
   "metadata": {},
   "source": [
    "<font color='green'>The data type of the target feature by default is ***int (1 or 0)***, to provide a better interpretation when exploring class distribution, ***values are transformed to String values (Default or Non-Default)*** using a lambda function</font>"
   ]
  },
  {
   "cell_type": "code",
   "execution_count": 10,
   "id": "092cfff6",
   "metadata": {},
   "outputs": [
    {
     "data": {
      "text/plain": [
       "count           32581\n",
       "unique              2\n",
       "top       Non-Default\n",
       "freq            25473\n",
       "Name: loan_status, dtype: object"
      ]
     },
     "execution_count": 10,
     "metadata": {},
     "output_type": "execute_result"
    }
   ],
   "source": [
    "credit_copy['loan_status'].describe()"
   ]
  },
  {
   "cell_type": "code",
   "execution_count": 11,
   "id": "16f3505b",
   "metadata": {},
   "outputs": [
    {
     "data": {
      "text/plain": [
       "Non-Default    25473\n",
       "Default         7108\n",
       "Name: loan_status, dtype: int64"
      ]
     },
     "execution_count": 11,
     "metadata": {},
     "output_type": "execute_result"
    }
   ],
   "source": [
    "# Output the value counts for the target feature\n",
    "credit_copy['loan_status'].value_counts()"
   ]
  },
  {
   "cell_type": "code",
   "execution_count": 12,
   "id": "6ce4d5d4",
   "metadata": {},
   "outputs": [
    {
     "data": {
      "image/png": "[encoded data removed]",
      "text/plain": [
       "<Figure size 432x288 with 1 Axes>"
      ]
     },
     "metadata": {},
     "output_type": "display_data"
    }
   ],
   "source": [
    "# Visualize class distribution proportions on a pie chart\n",
    "def pie_visualize_distribution(target_feature, title):\n",
    "    labels = credit_copy[target_feature].value_counts().index.tolist() # Extract the labels for plot legend\n",
    "    \n",
    "    # Create the pie chart with proprtion of values shown on chart\n",
    "    plt.pie(credit_copy[target_feature].value_counts(), autopct=lambda x: f'{round(x, 2)}%')\n",
    "    plt.title(title) # Set the tile for the plot\n",
    "    # Create a legend with labels in the upper right corner\n",
    "    plt.legend(labels, bbox_to_anchor=(1.5, 1), loc='upper right')\n",
    "    plt.show() # Output the chart\n",
    "\n",
    "pie_visualize_distribution('loan_status', 'Proportion of target classes')"
   ]
  },
  {
   "cell_type": "markdown",
   "id": "442e77f0",
   "metadata": {},
   "source": [
    "<div class='alert alert-block alert-info'> <u>Note:</u> The proportion for target variable classes suggests a mildly imbalanced dataset!</div>"
   ]
  },
  {
   "cell_type": "markdown",
   "id": "7abf87e0",
   "metadata": {},
   "source": [
    "<font color='green'>The chart shows an **unequal distribution** among target classes. Training a Machine Learning model with imbalanced data can lead to the model being **biased** towards the negative class, and perform worse </font>"
   ]
  },
  {
   "cell_type": "code",
   "execution_count": 13,
   "id": "fa51b78e",
   "metadata": {},
   "outputs": [
    {
     "data": {
      "image/png": "[encoded data removed]",
      "text/plain": [
       "<Figure size 432x288 with 1 Axes>"
      ]
     },
     "metadata": {},
     "output_type": "display_data"
    }
   ],
   "source": [
    "# Visualize total number for each class on a count plot\n",
    "def count_visualize_distribution(target_feature, title):\n",
    "    sns.set_theme(style='whitegrid')\n",
    "    # Create the countplot for the target feature in the DataFrame\n",
    "    sns.countplot(credit_copy, x=credit_copy[target_feature], \n",
    "                  order=credit_copy[target_feature].value_counts().index.tolist())\n",
    "    plt.title(title) # Set the title for the plot\n",
    "    plt.show() # Output the chart\n",
    "\n",
    "count_visualize_distribution('loan_status', 'Total of target classes')"
   ]
  },
  {
   "cell_type": "markdown",
   "id": "1c872eed",
   "metadata": {},
   "source": [
    "<font color='green'>The chart above shows the same unequality in class distribution but also shows the number of times each class appears in the dataset</font>"
   ]
  },
  {
   "cell_type": "code",
   "execution_count": 14,
   "id": "f16a40db",
   "metadata": {},
   "outputs": [
    {
     "data": {
      "text/html": [
       "<div>\n",
       "<style scoped>\n",
       "    .dataframe tbody tr th:only-of-type {\n",
       "        vertical-align: middle;\n",
       "    }\n",
       "\n",
       "    .dataframe tbody tr th {\n",
       "        vertical-align: top;\n",
       "    }\n",
       "\n",
       "    .dataframe thead th {\n",
       "        text-align: right;\n",
       "    }\n",
       "</style>\n",
       "<table border=\"1\" class=\"dataframe\">\n",
       "  <thead>\n",
       "    <tr style=\"text-align: right;\">\n",
       "      <th></th>\n",
       "      <th>person_age</th>\n",
       "      <th>person_income</th>\n",
       "      <th>person_emp_length</th>\n",
       "      <th>loan_amnt</th>\n",
       "      <th>loan_int_rate</th>\n",
       "      <th>loan_percent_income</th>\n",
       "      <th>cb_person_cred_hist_length</th>\n",
       "    </tr>\n",
       "    <tr>\n",
       "      <th>loan_status</th>\n",
       "      <th></th>\n",
       "      <th></th>\n",
       "      <th></th>\n",
       "      <th></th>\n",
       "      <th></th>\n",
       "      <th></th>\n",
       "      <th></th>\n",
       "    </tr>\n",
       "  </thead>\n",
       "  <tbody>\n",
       "    <tr>\n",
       "      <th>0</th>\n",
       "      <td>27.807129</td>\n",
       "      <td>70804.361559</td>\n",
       "      <td>4.968745</td>\n",
       "      <td>9237.464178</td>\n",
       "      <td>10.435999</td>\n",
       "      <td>0.148805</td>\n",
       "      <td>5.837475</td>\n",
       "    </tr>\n",
       "    <tr>\n",
       "      <th>1</th>\n",
       "      <td>27.474676</td>\n",
       "      <td>49125.652223</td>\n",
       "      <td>4.137562</td>\n",
       "      <td>10850.502954</td>\n",
       "      <td>13.060207</td>\n",
       "      <td>0.246889</td>\n",
       "      <td>5.685003</td>\n",
       "    </tr>\n",
       "  </tbody>\n",
       "</table>\n",
       "</div>"
      ],
      "text/plain": [
       "             person_age  person_income  person_emp_length     loan_amnt  \\\n",
       "loan_status                                                               \n",
       "0             27.807129   70804.361559           4.968745   9237.464178   \n",
       "1             27.474676   49125.652223           4.137562  10850.502954   \n",
       "\n",
       "             loan_int_rate  loan_percent_income  cb_person_cred_hist_length  \n",
       "loan_status                                                                  \n",
       "0                10.435999             0.148805                    5.837475  \n",
       "1                13.060207             0.246889                    5.685003  "
      ]
     },
     "execution_count": 14,
     "metadata": {},
     "output_type": "execute_result"
    }
   ],
   "source": [
    "credit.groupby('loan_status').mean()"
   ]
  },
  {
   "cell_type": "markdown",
   "id": "16b216d2",
   "metadata": {},
   "source": [
    "<font color='green'>People who have a lower income (person_income), their loan amount would take a higer proportion of said income (loan_percent_income) are more likely to fail their loan re-payments. This would also suggest a **high correlation** between these variables</font>"
   ]
  },
  {
   "cell_type": "code",
   "execution_count": 15,
   "id": "bd523369",
   "metadata": {},
   "outputs": [
    {
     "data": {
      "image/png": "[encoded data removed]",
      "text/plain": [
       "<Figure size 432x288 with 1 Axes>"
      ]
     },
     "metadata": {},
     "output_type": "display_data"
    }
   ],
   "source": [
    "# Visualize the distribution of target classes based on the 'loan_percent_income' variable\n",
    "def visualize_based_on(target_feature, based_on):\n",
    "    sns.boxplot(credit_copy, x=credit_copy[target_feature], y=credit_copy[based_on])\n",
    "    # plt.xlabel('Loan Status')\n",
    "    # plt.ylabel('Loan % Income')\n",
    "    plt.show()\n",
    "\n",
    "visualize_based_on('loan_status', 'loan_percent_income')\n",
    "# Note: Function allows for visualizing the distribution of target classes based on other predictor variable by\n",
    "# by changing the 'based_on' parameter"
   ]
  },
  {
   "cell_type": "markdown",
   "id": "a517f105",
   "metadata": {},
   "source": [
    "<div class='alert alert-block alert-info'> <u>Note:</u> Boxplot detected outliers in the dataset!</div>"
   ]
  },
  {
   "cell_type": "markdown",
   "id": "0552ae85",
   "metadata": {},
   "source": [
    "<font color='green'>The boxplot confirms the assumption made in the previous cell. Also some **outliers** are shown on the boxplot. These will be handled in the pre-processing stage</font>"
   ]
  },
  {
   "cell_type": "markdown",
   "id": "913a99a9",
   "metadata": {},
   "source": [
    "### <font color='green'>Quantitative Variables</font>"
   ]
  },
  {
   "cell_type": "code",
   "execution_count": 16,
   "id": "0b2f640e",
   "metadata": {},
   "outputs": [
    {
     "data": {
      "text/plain": [
       "Index(['person_age', 'person_income', 'person_emp_length', 'loan_amnt',\n",
       "       'loan_int_rate', 'loan_status', 'loan_percent_income',\n",
       "       'cb_person_cred_hist_length'],\n",
       "      dtype='object')"
      ]
     },
     "execution_count": 16,
     "metadata": {},
     "output_type": "execute_result"
    }
   ],
   "source": [
    "# Select quantitative features only and save the column names into a variable \n",
    "credit_num_cols = credit.select_dtypes(include=['number']).columns\n",
    "credit_num_cols"
   ]
  },
  {
   "cell_type": "code",
   "execution_count": 17,
   "id": "ac085bf8",
   "metadata": {},
   "outputs": [
    {
     "data": {
      "text/plain": [
       "66.7"
      ]
     },
     "execution_count": 17,
     "metadata": {},
     "output_type": "execute_result"
    }
   ],
   "source": [
    "# Check the proportion of quantitative features in the dataset\n",
    "round(len(credit_num_cols) / len(credit.columns) * 100, 1)"
   ]
  },
  {
   "cell_type": "markdown",
   "id": "d9330217",
   "metadata": {},
   "source": [
    "<font color='green'>2/3 of the variables in the dataset are **numerical**</font>"
   ]
  },
  {
   "cell_type": "code",
   "execution_count": 18,
   "id": "69fe2e59",
   "metadata": {},
   "outputs": [
    {
     "data": {
      "text/html": [
       "<div>\n",
       "<style scoped>\n",
       "    .dataframe tbody tr th:only-of-type {\n",
       "        vertical-align: middle;\n",
       "    }\n",
       "\n",
       "    .dataframe tbody tr th {\n",
       "        vertical-align: top;\n",
       "    }\n",
       "\n",
       "    .dataframe thead th {\n",
       "        text-align: right;\n",
       "    }\n",
       "</style>\n",
       "<table border=\"1\" class=\"dataframe\">\n",
       "  <thead>\n",
       "    <tr style=\"text-align: right;\">\n",
       "      <th></th>\n",
       "      <th>person_age</th>\n",
       "      <th>person_income</th>\n",
       "      <th>person_emp_length</th>\n",
       "      <th>loan_amnt</th>\n",
       "      <th>loan_int_rate</th>\n",
       "      <th>loan_status</th>\n",
       "      <th>loan_percent_income</th>\n",
       "      <th>cb_person_cred_hist_length</th>\n",
       "    </tr>\n",
       "  </thead>\n",
       "  <tbody>\n",
       "    <tr>\n",
       "      <th>count</th>\n",
       "      <td>32581.000000</td>\n",
       "      <td>3.258100e+04</td>\n",
       "      <td>31686.000000</td>\n",
       "      <td>32581.000000</td>\n",
       "      <td>29465.000000</td>\n",
       "      <td>32581.000000</td>\n",
       "      <td>32581.000000</td>\n",
       "      <td>32581.000000</td>\n",
       "    </tr>\n",
       "    <tr>\n",
       "      <th>mean</th>\n",
       "      <td>27.734600</td>\n",
       "      <td>6.607485e+04</td>\n",
       "      <td>4.789686</td>\n",
       "      <td>9589.371106</td>\n",
       "      <td>11.011695</td>\n",
       "      <td>0.218164</td>\n",
       "      <td>0.170203</td>\n",
       "      <td>5.804211</td>\n",
       "    </tr>\n",
       "    <tr>\n",
       "      <th>std</th>\n",
       "      <td>6.348078</td>\n",
       "      <td>6.198312e+04</td>\n",
       "      <td>4.142630</td>\n",
       "      <td>6322.086646</td>\n",
       "      <td>3.240459</td>\n",
       "      <td>0.413006</td>\n",
       "      <td>0.106782</td>\n",
       "      <td>4.055001</td>\n",
       "    </tr>\n",
       "    <tr>\n",
       "      <th>min</th>\n",
       "      <td>20.000000</td>\n",
       "      <td>4.000000e+03</td>\n",
       "      <td>0.000000</td>\n",
       "      <td>500.000000</td>\n",
       "      <td>5.420000</td>\n",
       "      <td>0.000000</td>\n",
       "      <td>0.000000</td>\n",
       "      <td>2.000000</td>\n",
       "    </tr>\n",
       "    <tr>\n",
       "      <th>25%</th>\n",
       "      <td>23.000000</td>\n",
       "      <td>3.850000e+04</td>\n",
       "      <td>2.000000</td>\n",
       "      <td>5000.000000</td>\n",
       "      <td>7.900000</td>\n",
       "      <td>0.000000</td>\n",
       "      <td>0.090000</td>\n",
       "      <td>3.000000</td>\n",
       "    </tr>\n",
       "    <tr>\n",
       "      <th>50%</th>\n",
       "      <td>26.000000</td>\n",
       "      <td>5.500000e+04</td>\n",
       "      <td>4.000000</td>\n",
       "      <td>8000.000000</td>\n",
       "      <td>10.990000</td>\n",
       "      <td>0.000000</td>\n",
       "      <td>0.150000</td>\n",
       "      <td>4.000000</td>\n",
       "    </tr>\n",
       "    <tr>\n",
       "      <th>75%</th>\n",
       "      <td>30.000000</td>\n",
       "      <td>7.920000e+04</td>\n",
       "      <td>7.000000</td>\n",
       "      <td>12200.000000</td>\n",
       "      <td>13.470000</td>\n",
       "      <td>0.000000</td>\n",
       "      <td>0.230000</td>\n",
       "      <td>8.000000</td>\n",
       "    </tr>\n",
       "    <tr>\n",
       "      <th>max</th>\n",
       "      <td>144.000000</td>\n",
       "      <td>6.000000e+06</td>\n",
       "      <td>123.000000</td>\n",
       "      <td>35000.000000</td>\n",
       "      <td>23.220000</td>\n",
       "      <td>1.000000</td>\n",
       "      <td>0.830000</td>\n",
       "      <td>30.000000</td>\n",
       "    </tr>\n",
       "  </tbody>\n",
       "</table>\n",
       "</div>"
      ],
      "text/plain": [
       "         person_age  person_income  person_emp_length     loan_amnt  \\\n",
       "count  32581.000000   3.258100e+04       31686.000000  32581.000000   \n",
       "mean      27.734600   6.607485e+04           4.789686   9589.371106   \n",
       "std        6.348078   6.198312e+04           4.142630   6322.086646   \n",
       "min       20.000000   4.000000e+03           0.000000    500.000000   \n",
       "25%       23.000000   3.850000e+04           2.000000   5000.000000   \n",
       "50%       26.000000   5.500000e+04           4.000000   8000.000000   \n",
       "75%       30.000000   7.920000e+04           7.000000  12200.000000   \n",
       "max      144.000000   6.000000e+06         123.000000  35000.000000   \n",
       "\n",
       "       loan_int_rate   loan_status  loan_percent_income  \\\n",
       "count   29465.000000  32581.000000         32581.000000   \n",
       "mean       11.011695      0.218164             0.170203   \n",
       "std         3.240459      0.413006             0.106782   \n",
       "min         5.420000      0.000000             0.000000   \n",
       "25%         7.900000      0.000000             0.090000   \n",
       "50%        10.990000      0.000000             0.150000   \n",
       "75%        13.470000      0.000000             0.230000   \n",
       "max        23.220000      1.000000             0.830000   \n",
       "\n",
       "       cb_person_cred_hist_length  \n",
       "count                32581.000000  \n",
       "mean                     5.804211  \n",
       "std                      4.055001  \n",
       "min                      2.000000  \n",
       "25%                      3.000000  \n",
       "50%                      4.000000  \n",
       "75%                      8.000000  \n",
       "max                     30.000000  "
      ]
     },
     "execution_count": 18,
     "metadata": {},
     "output_type": "execute_result"
    }
   ],
   "source": [
    "# Display summary statistics for the Quantitative variables in the DataFrame using .describe()\n",
    "credit.describe()"
   ]
  },
  {
   "cell_type": "markdown",
   "id": "f648d4a0",
   "metadata": {},
   "source": [
    "<div class='alert alert-block alert-info'> <u>Note:</u> Potential outliers for the age, income and employment length columns, which will be further investigated and dealt with if necessary at the pre-processing stage</div>"
   ]
  },
  {
   "cell_type": "markdown",
   "id": "b1c7be64",
   "metadata": {},
   "source": [
    "<font color='green'>The **difference between the 75% quantile and the max value** for some variables suggest the presence of **outliers**</font>"
   ]
  },
  {
   "cell_type": "code",
   "execution_count": 19,
   "id": "3b42218c",
   "metadata": {},
   "outputs": [
    {
     "data": {
      "image/png": "[encoded data removed]",
      "text/plain": [
       "<Figure size 1080x720 with 9 Axes>"
      ]
     },
     "metadata": {},
     "output_type": "display_data"
    }
   ],
   "source": [
    "# Visualize numerical features on a histogram\n",
    "credit[list(filter(lambda x: x != 'loan_status', credit_num_cols))].hist(bins=20, figsize=(15, 10))\n",
    "plt.show()"
   ]
  },
  {
   "cell_type": "markdown",
   "id": "85c9dd6a",
   "metadata": {},
   "source": [
    "<div class='alert alert-block alert-info'> <u>Note:</u>Features vary in scales that could affect the performance of the model, as well as most of their distribution is right-skewed</div>"
   ]
  },
  {
   "cell_type": "markdown",
   "id": "3d38a006",
   "metadata": {},
   "source": [
    "<font color='green'>As noted above, most of the variables' distributions are **right-skewed** and on **different scales**. To handle this issue, **features will be scaled** at pre-processing</font>"
   ]
  },
  {
   "cell_type": "code",
   "execution_count": 20,
   "id": "afd3c395",
   "metadata": {},
   "outputs": [
    {
     "data": {
      "text/html": [
       "<div>\n",
       "<style scoped>\n",
       "    .dataframe tbody tr th:only-of-type {\n",
       "        vertical-align: middle;\n",
       "    }\n",
       "\n",
       "    .dataframe tbody tr th {\n",
       "        vertical-align: top;\n",
       "    }\n",
       "\n",
       "    .dataframe thead th {\n",
       "        text-align: right;\n",
       "    }\n",
       "</style>\n",
       "<table border=\"1\" class=\"dataframe\">\n",
       "  <thead>\n",
       "    <tr style=\"text-align: right;\">\n",
       "      <th></th>\n",
       "      <th>person_age</th>\n",
       "      <th>person_income</th>\n",
       "      <th>person_emp_length</th>\n",
       "      <th>loan_amnt</th>\n",
       "      <th>loan_int_rate</th>\n",
       "      <th>loan_status</th>\n",
       "      <th>loan_percent_income</th>\n",
       "      <th>cb_person_cred_hist_length</th>\n",
       "    </tr>\n",
       "  </thead>\n",
       "  <tbody>\n",
       "    <tr>\n",
       "      <th>person_age</th>\n",
       "      <td>1.000000</td>\n",
       "      <td>0.173202</td>\n",
       "      <td>0.163106</td>\n",
       "      <td>0.050787</td>\n",
       "      <td>0.012580</td>\n",
       "      <td>-0.021629</td>\n",
       "      <td>-0.042411</td>\n",
       "      <td>0.859133</td>\n",
       "    </tr>\n",
       "    <tr>\n",
       "      <th>person_income</th>\n",
       "      <td>0.173202</td>\n",
       "      <td>1.000000</td>\n",
       "      <td>0.134268</td>\n",
       "      <td>0.266820</td>\n",
       "      <td>0.000792</td>\n",
       "      <td>-0.144449</td>\n",
       "      <td>-0.254471</td>\n",
       "      <td>0.117987</td>\n",
       "    </tr>\n",
       "    <tr>\n",
       "      <th>person_emp_length</th>\n",
       "      <td>0.163106</td>\n",
       "      <td>0.134268</td>\n",
       "      <td>1.000000</td>\n",
       "      <td>0.113082</td>\n",
       "      <td>-0.056405</td>\n",
       "      <td>-0.082489</td>\n",
       "      <td>-0.054111</td>\n",
       "      <td>0.144699</td>\n",
       "    </tr>\n",
       "    <tr>\n",
       "      <th>loan_amnt</th>\n",
       "      <td>0.050787</td>\n",
       "      <td>0.266820</td>\n",
       "      <td>0.113082</td>\n",
       "      <td>1.000000</td>\n",
       "      <td>0.146813</td>\n",
       "      <td>0.105376</td>\n",
       "      <td>0.572612</td>\n",
       "      <td>0.041967</td>\n",
       "    </tr>\n",
       "    <tr>\n",
       "      <th>loan_int_rate</th>\n",
       "      <td>0.012580</td>\n",
       "      <td>0.000792</td>\n",
       "      <td>-0.056405</td>\n",
       "      <td>0.146813</td>\n",
       "      <td>1.000000</td>\n",
       "      <td>0.335133</td>\n",
       "      <td>0.120314</td>\n",
       "      <td>0.016696</td>\n",
       "    </tr>\n",
       "    <tr>\n",
       "      <th>loan_status</th>\n",
       "      <td>-0.021629</td>\n",
       "      <td>-0.144449</td>\n",
       "      <td>-0.082489</td>\n",
       "      <td>0.105376</td>\n",
       "      <td>0.335133</td>\n",
       "      <td>1.000000</td>\n",
       "      <td>0.379366</td>\n",
       "      <td>-0.015529</td>\n",
       "    </tr>\n",
       "    <tr>\n",
       "      <th>loan_percent_income</th>\n",
       "      <td>-0.042411</td>\n",
       "      <td>-0.254471</td>\n",
       "      <td>-0.054111</td>\n",
       "      <td>0.572612</td>\n",
       "      <td>0.120314</td>\n",
       "      <td>0.379366</td>\n",
       "      <td>1.000000</td>\n",
       "      <td>-0.031690</td>\n",
       "    </tr>\n",
       "    <tr>\n",
       "      <th>cb_person_cred_hist_length</th>\n",
       "      <td>0.859133</td>\n",
       "      <td>0.117987</td>\n",
       "      <td>0.144699</td>\n",
       "      <td>0.041967</td>\n",
       "      <td>0.016696</td>\n",
       "      <td>-0.015529</td>\n",
       "      <td>-0.031690</td>\n",
       "      <td>1.000000</td>\n",
       "    </tr>\n",
       "  </tbody>\n",
       "</table>\n",
       "</div>"
      ],
      "text/plain": [
       "                            person_age  person_income  person_emp_length  \\\n",
       "person_age                    1.000000       0.173202           0.163106   \n",
       "person_income                 0.173202       1.000000           0.134268   \n",
       "person_emp_length             0.163106       0.134268           1.000000   \n",
       "loan_amnt                     0.050787       0.266820           0.113082   \n",
       "loan_int_rate                 0.012580       0.000792          -0.056405   \n",
       "loan_status                  -0.021629      -0.144449          -0.082489   \n",
       "loan_percent_income          -0.042411      -0.254471          -0.054111   \n",
       "cb_person_cred_hist_length    0.859133       0.117987           0.144699   \n",
       "\n",
       "                            loan_amnt  loan_int_rate  loan_status  \\\n",
       "person_age                   0.050787       0.012580    -0.021629   \n",
       "person_income                0.266820       0.000792    -0.144449   \n",
       "person_emp_length            0.113082      -0.056405    -0.082489   \n",
       "loan_amnt                    1.000000       0.146813     0.105376   \n",
       "loan_int_rate                0.146813       1.000000     0.335133   \n",
       "loan_status                  0.105376       0.335133     1.000000   \n",
       "loan_percent_income          0.572612       0.120314     0.379366   \n",
       "cb_person_cred_hist_length   0.041967       0.016696    -0.015529   \n",
       "\n",
       "                            loan_percent_income  cb_person_cred_hist_length  \n",
       "person_age                            -0.042411                    0.859133  \n",
       "person_income                         -0.254471                    0.117987  \n",
       "person_emp_length                     -0.054111                    0.144699  \n",
       "loan_amnt                              0.572612                    0.041967  \n",
       "loan_int_rate                          0.120314                    0.016696  \n",
       "loan_status                            0.379366                   -0.015529  \n",
       "loan_percent_income                    1.000000                   -0.031690  \n",
       "cb_person_cred_hist_length            -0.031690                    1.000000  "
      ]
     },
     "execution_count": 20,
     "metadata": {},
     "output_type": "execute_result"
    }
   ],
   "source": [
    "# Generate correlation (Pearson's) matrix to gain more insight into the relationship between quantitative variables\n",
    "# in the dataset \n",
    "corr_matrix = credit.corr()\n",
    "corr_matrix"
   ]
  },
  {
   "cell_type": "code",
   "execution_count": 21,
   "id": "9960aa9f",
   "metadata": {},
   "outputs": [
    {
     "data": {
      "text/plain": [
       "loan_percent_income           0.379366\n",
       "loan_int_rate                 0.335133\n",
       "person_income                 0.144449\n",
       "loan_amnt                     0.105376\n",
       "person_emp_length             0.082489\n",
       "person_age                    0.021629\n",
       "cb_person_cred_hist_length    0.015529\n",
       "Name: loan_status, dtype: float64"
      ]
     },
     "execution_count": 21,
     "metadata": {},
     "output_type": "execute_result"
    }
   ],
   "source": [
    "# Inspect how the target variable correlates with other quantitative features in the dataset\n",
    "corr_matrix['loan_status'].abs().sort_values(ascending=False)[1:]"
   ]
  },
  {
   "cell_type": "markdown",
   "id": "8b755c78",
   "metadata": {},
   "source": [
    "<font color='green'>The highest correlation with the target feature is among how the **loan amount compares to the person's income** as well as the **interest rate**</font>"
   ]
  },
  {
   "cell_type": "code",
   "execution_count": 22,
   "id": "dccc87ee",
   "metadata": {},
   "outputs": [
    {
     "data": {
      "text/plain": [
       "[]"
      ]
     },
     "execution_count": 22,
     "metadata": {},
     "output_type": "execute_result"
    },
    {
     "data": {
      "image/png": "[encoded data removed]",
      "text/plain": [
       "<Figure size 576x576 with 2 Axes>"
      ]
     },
     "metadata": {},
     "output_type": "display_data"
    }
   ],
   "source": [
    "# Visualize the correlation matrix on a heatmap for better and easier interpretation of the relationships between\n",
    "# each and every variable\n",
    "ax = plt.figure(figsize=(8, 8))\n",
    "ax = sns.heatmap(corr_matrix.abs(), annot=True)\n",
    "plt.plot()"
   ]
  },
  {
   "cell_type": "markdown",
   "id": "e1a76972",
   "metadata": {},
   "source": [
    "<font color='green'>There are notable correlation between other quantiative variables:</font>\n",
    "* credit history length and person's age - strong positive correlation (0.86) (older the person is the longer their credit history\n",
    "* loan amount compared to income and loan amount - positive correlation (0.57) (the higher the loan amount, the larger proportion it will be of the person's income"
   ]
  },
  {
   "cell_type": "markdown",
   "id": "381d7552",
   "metadata": {},
   "source": [
    "### <font color='green'>Categorical Variables</font>"
   ]
  },
  {
   "cell_type": "code",
   "execution_count": 23,
   "id": "7c7cf0ae",
   "metadata": {},
   "outputs": [
    {
     "data": {
      "text/html": [
       "<div>\n",
       "<style scoped>\n",
       "    .dataframe tbody tr th:only-of-type {\n",
       "        vertical-align: middle;\n",
       "    }\n",
       "\n",
       "    .dataframe tbody tr th {\n",
       "        vertical-align: top;\n",
       "    }\n",
       "\n",
       "    .dataframe thead th {\n",
       "        text-align: right;\n",
       "    }\n",
       "</style>\n",
       "<table border=\"1\" class=\"dataframe\">\n",
       "  <thead>\n",
       "    <tr style=\"text-align: right;\">\n",
       "      <th></th>\n",
       "      <th>person_home_ownership</th>\n",
       "      <th>loan_intent</th>\n",
       "      <th>loan_grade</th>\n",
       "      <th>cb_person_default_on_file</th>\n",
       "    </tr>\n",
       "  </thead>\n",
       "  <tbody>\n",
       "    <tr>\n",
       "      <th>0</th>\n",
       "      <td>RENT</td>\n",
       "      <td>PERSONAL</td>\n",
       "      <td>D</td>\n",
       "      <td>Y</td>\n",
       "    </tr>\n",
       "    <tr>\n",
       "      <th>1</th>\n",
       "      <td>OWN</td>\n",
       "      <td>EDUCATION</td>\n",
       "      <td>B</td>\n",
       "      <td>N</td>\n",
       "    </tr>\n",
       "    <tr>\n",
       "      <th>2</th>\n",
       "      <td>MORTGAGE</td>\n",
       "      <td>MEDICAL</td>\n",
       "      <td>C</td>\n",
       "      <td>N</td>\n",
       "    </tr>\n",
       "    <tr>\n",
       "      <th>3</th>\n",
       "      <td>RENT</td>\n",
       "      <td>MEDICAL</td>\n",
       "      <td>C</td>\n",
       "      <td>N</td>\n",
       "    </tr>\n",
       "    <tr>\n",
       "      <th>4</th>\n",
       "      <td>RENT</td>\n",
       "      <td>MEDICAL</td>\n",
       "      <td>C</td>\n",
       "      <td>Y</td>\n",
       "    </tr>\n",
       "  </tbody>\n",
       "</table>\n",
       "</div>"
      ],
      "text/plain": [
       "  person_home_ownership loan_intent loan_grade cb_person_default_on_file\n",
       "0                  RENT    PERSONAL          D                         Y\n",
       "1                   OWN   EDUCATION          B                         N\n",
       "2              MORTGAGE     MEDICAL          C                         N\n",
       "3                  RENT     MEDICAL          C                         N\n",
       "4                  RENT     MEDICAL          C                         Y"
      ]
     },
     "execution_count": 23,
     "metadata": {},
     "output_type": "execute_result"
    }
   ],
   "source": [
    "# Select only categorical variables from the DataFrame\n",
    "credit_cat = credit.select_dtypes(include=['object'])\n",
    "credit_cat.head()"
   ]
  },
  {
   "cell_type": "code",
   "execution_count": 24,
   "id": "25db0ab3",
   "metadata": {},
   "outputs": [
    {
     "data": {
      "text/html": [
       "<div>\n",
       "<style scoped>\n",
       "    .dataframe tbody tr th:only-of-type {\n",
       "        vertical-align: middle;\n",
       "    }\n",
       "\n",
       "    .dataframe tbody tr th {\n",
       "        vertical-align: top;\n",
       "    }\n",
       "\n",
       "    .dataframe thead th {\n",
       "        text-align: right;\n",
       "    }\n",
       "</style>\n",
       "<table border=\"1\" class=\"dataframe\">\n",
       "  <thead>\n",
       "    <tr style=\"text-align: right;\">\n",
       "      <th></th>\n",
       "      <th>person_home_ownership</th>\n",
       "      <th>loan_intent</th>\n",
       "      <th>loan_grade</th>\n",
       "      <th>cb_person_default_on_file</th>\n",
       "    </tr>\n",
       "  </thead>\n",
       "  <tbody>\n",
       "    <tr>\n",
       "      <th>count</th>\n",
       "      <td>32581</td>\n",
       "      <td>32581</td>\n",
       "      <td>32581</td>\n",
       "      <td>32581</td>\n",
       "    </tr>\n",
       "    <tr>\n",
       "      <th>unique</th>\n",
       "      <td>4</td>\n",
       "      <td>6</td>\n",
       "      <td>7</td>\n",
       "      <td>2</td>\n",
       "    </tr>\n",
       "    <tr>\n",
       "      <th>top</th>\n",
       "      <td>RENT</td>\n",
       "      <td>EDUCATION</td>\n",
       "      <td>A</td>\n",
       "      <td>N</td>\n",
       "    </tr>\n",
       "    <tr>\n",
       "      <th>freq</th>\n",
       "      <td>16446</td>\n",
       "      <td>6453</td>\n",
       "      <td>10777</td>\n",
       "      <td>26836</td>\n",
       "    </tr>\n",
       "  </tbody>\n",
       "</table>\n",
       "</div>"
      ],
      "text/plain": [
       "       person_home_ownership loan_intent loan_grade cb_person_default_on_file\n",
       "count                  32581       32581      32581                     32581\n",
       "unique                     4           6          7                         2\n",
       "top                     RENT   EDUCATION          A                         N\n",
       "freq                   16446        6453      10777                     26836"
      ]
     },
     "execution_count": 24,
     "metadata": {},
     "output_type": "execute_result"
    }
   ],
   "source": [
    "# Get summary statistics for the categorical features representing (count, number of unique values, the mode and\n",
    "# the frequency of the most common element)\n",
    "credit_cat.describe()"
   ]
  },
  {
   "cell_type": "markdown",
   "id": "ea1e8918",
   "metadata": {},
   "source": [
    "<font color='green'>The values of categorical variables are not too diverese (most 7 - loan_grade), people most frequently **Rent** their property, while their purpose for loan is **Education** with a loan grade of **A**</font>"
   ]
  },
  {
   "cell_type": "code",
   "execution_count": 25,
   "id": "b214de2f",
   "metadata": {},
   "outputs": [
    {
     "data": {
      "text/plain": [
       "Index(['person_home_ownership', 'loan_intent', 'loan_grade',\n",
       "       'cb_person_default_on_file'],\n",
       "      dtype='object')"
      ]
     },
     "execution_count": 25,
     "metadata": {},
     "output_type": "execute_result"
    }
   ],
   "source": [
    "# Save the column names for categorical features into a variable\n",
    "credit_cat_cols = credit_cat.columns\n",
    "credit_cat_cols"
   ]
  },
  {
   "cell_type": "code",
   "execution_count": 26,
   "id": "d53df0ae",
   "metadata": {},
   "outputs": [
    {
     "data": {
      "text/plain": [
       "33.3"
      ]
     },
     "execution_count": 26,
     "metadata": {},
     "output_type": "execute_result"
    }
   ],
   "source": [
    "# Poroportion of categorical columns in the data set\n",
    "round(len(credit_cat_cols) / len(credit.columns) * 100, 1)"
   ]
  },
  {
   "cell_type": "markdown",
   "id": "4de8ad89",
   "metadata": {},
   "source": [
    "<font color='green'>1 / 3 of the variables in the dataset are **categorical**<font>"
   ]
  },
  {
   "cell_type": "code",
   "execution_count": 27,
   "id": "4442dc23",
   "metadata": {},
   "outputs": [
    {
     "data": {
      "image/png": "[encoded data removed]",
      "text/plain": [
       "<Figure size 1512x1512 with 4 Axes>"
      ]
     },
     "metadata": {},
     "output_type": "display_data"
    }
   ],
   "source": [
    "# Visualize the proportion of values for each categorical feature\n",
    "def count_visualize_categorical(cat_cols, hue=None):\n",
    "    plt.figure(figsize=(21, 21))\n",
    "    # plt.tight_layout()\n",
    "    for i in range(len(cat_cols)):\n",
    "        ax = plt.subplot(2, 2, i + 1)\n",
    "        ax = sns.countplot(data=credit_cat, x=credit_cat[cat_cols[i]], hue=hue)\n",
    "        # To avoid overlapping labels for loan intent rotate labels to the right:\n",
    "        if cat_cols[i] == 'loan_intent':\n",
    "            ax.set_xticklabels(ax.get_xticklabels(), rotation=25, ha='right')\n",
    "            \n",
    "count_visualize_categorical(credit_cat_cols)"
   ]
  },
  {
   "cell_type": "markdown",
   "id": "f96fca53",
   "metadata": {},
   "source": [
    "<font color='green'>Distribution of categorical variables in the dataset:</font>\n",
    "* Home ownership - people tend to rent their property or have a mortgage on it\n",
    "* Loan intent - well-balanced, home improvement tends to be the less common reason for loan\n",
    "* Loan grade - Loan grade is imbalanced in this dataset - Loan A and B are the most common\n",
    "* Default on file - Binary variable - imbalanced where negative class is in the majority"
   ]
  },
  {
   "cell_type": "code",
   "execution_count": 28,
   "id": "7165428a",
   "metadata": {},
   "outputs": [
    {
     "data": {
      "image/png": "[encoded data removed]",
      "text/plain": [
       "<Figure size 1512x1512 with 4 Axes>"
      ]
     },
     "metadata": {},
     "output_type": "display_data"
    }
   ],
   "source": [
    "# Visualize the proportion of categorical values in terms of the target variable\n",
    "\"\"\"plt.figure(figsize=(21, 21))\n",
    "# plt.tight_layout()\n",
    "for i in range(len(credit_cat_cols)):\n",
    "    ax = plt.subplot(2, 2, i + 1)\n",
    "    ax = sns.countplot(data=credit_cat, x=credit_cat[credit_cat_cols[i]], hue=credit['loan_status'])\n",
    "    # To avoid overlapping labels for loan intent rotate labels to the right:\n",
    "    if credit_cat_cols[i] == 'loan_intent':\n",
    "        ax.set_xticklabels(ax.get_xticklabels(), rotation=25, ha='right')\"\"\"\n",
    "\n",
    "# Call the visualize function and pass in the loan status as the parameter to do the counting\n",
    "count_visualize_categorical(credit_cat_cols, credit['loan_status'])"
   ]
  },
  {
   "cell_type": "markdown",
   "id": "342ac529",
   "metadata": {},
   "source": [
    "<font color='green'>Key things to note about the distribution of categorical variables based on the target feature:</font>\n",
    "* People who fail their re-payments tend to rent their property \n",
    "* They usually belong to a loan grade D - within this grade and the following grades (E,F,G) they tend to be in majority compared to people who are in the negative class"
   ]
  },
  {
   "cell_type": "markdown",
   "id": "076dbdb4",
   "metadata": {},
   "source": [
    "## Data Pre-processing"
   ]
  },
  {
   "cell_type": "markdown",
   "id": "8c63abc2",
   "metadata": {},
   "source": [
    "### <font color='green'>Handling Missing Values</font>"
   ]
  },
  {
   "cell_type": "code",
   "execution_count": 29,
   "id": "5d149863",
   "metadata": {},
   "outputs": [
    {
     "name": "stdout",
     "output_type": "stream",
     "text": [
      "Column name: person_emp_length\n",
      "Number of missing values: 895\n",
      "Percentage of missing values: 2.7469997851508547%\n",
      "\n",
      "Column name: loan_int_rate\n",
      "Number of missing values: 3116\n",
      "Percentage of missing values: 9.563856235229121%\n",
      "\n"
     ]
    }
   ],
   "source": [
    "# Output the number of missing values where applicable along with the percentage of missing values compared to the \n",
    "# total number of values for the feature\n",
    "credit_missing_cols = []  # Create a list to store columns with missing values\n",
    "for col in columns:\n",
    "    if (credit[col].isnull().sum() > 0):\n",
    "        credit_missing_cols.append(col)  # Add the column name to the list\n",
    "        print(f'Column name: {col}\\nNumber of missing values: {credit[col].isnull().sum()}\\nPercentage of missing values: {credit[col].isnull().sum() / len(credit) * 100}%\\n')"
   ]
  },
  {
   "cell_type": "code",
   "execution_count": 30,
   "id": "63858454",
   "metadata": {},
   "outputs": [
    {
     "name": "stdout",
     "output_type": "stream",
     "text": [
      "Columns with missing values: ['person_emp_length', 'loan_int_rate']\n"
     ]
    }
   ],
   "source": [
    "print(f'Columns with missing values: {credit_missing_cols}')"
   ]
  },
  {
   "cell_type": "code",
   "execution_count": 33,
   "id": "5424f3df",
   "metadata": {},
   "outputs": [
    {
     "data": {
      "text/html": [
       "<div>\n",
       "<style scoped>\n",
       "    .dataframe tbody tr th:only-of-type {\n",
       "        vertical-align: middle;\n",
       "    }\n",
       "\n",
       "    .dataframe tbody tr th {\n",
       "        vertical-align: top;\n",
       "    }\n",
       "\n",
       "    .dataframe thead th {\n",
       "        text-align: right;\n",
       "    }\n",
       "</style>\n",
       "<table border=\"1\" class=\"dataframe\">\n",
       "  <thead>\n",
       "    <tr style=\"text-align: right;\">\n",
       "      <th></th>\n",
       "      <th>person_age</th>\n",
       "      <th>person_income</th>\n",
       "      <th>person_emp_length</th>\n",
       "      <th>loan_amnt</th>\n",
       "      <th>loan_int_rate</th>\n",
       "      <th>loan_status</th>\n",
       "      <th>loan_percent_income</th>\n",
       "      <th>cb_person_cred_hist_length</th>\n",
       "    </tr>\n",
       "  </thead>\n",
       "  <tbody>\n",
       "    <tr>\n",
       "      <th>person_age</th>\n",
       "      <td>1.000000</td>\n",
       "      <td>0.173202</td>\n",
       "      <td>0.163106</td>\n",
       "      <td>0.050787</td>\n",
       "      <td>0.012580</td>\n",
       "      <td>-0.021629</td>\n",
       "      <td>-0.042411</td>\n",
       "      <td>0.859133</td>\n",
       "    </tr>\n",
       "    <tr>\n",
       "      <th>person_income</th>\n",
       "      <td>0.173202</td>\n",
       "      <td>1.000000</td>\n",
       "      <td>0.134268</td>\n",
       "      <td>0.266820</td>\n",
       "      <td>0.000792</td>\n",
       "      <td>-0.144449</td>\n",
       "      <td>-0.254471</td>\n",
       "      <td>0.117987</td>\n",
       "    </tr>\n",
       "    <tr>\n",
       "      <th>person_emp_length</th>\n",
       "      <td>0.163106</td>\n",
       "      <td>0.134268</td>\n",
       "      <td>1.000000</td>\n",
       "      <td>0.113082</td>\n",
       "      <td>-0.056405</td>\n",
       "      <td>-0.082489</td>\n",
       "      <td>-0.054111</td>\n",
       "      <td>0.144699</td>\n",
       "    </tr>\n",
       "    <tr>\n",
       "      <th>loan_amnt</th>\n",
       "      <td>0.050787</td>\n",
       "      <td>0.266820</td>\n",
       "      <td>0.113082</td>\n",
       "      <td>1.000000</td>\n",
       "      <td>0.146813</td>\n",
       "      <td>0.105376</td>\n",
       "      <td>0.572612</td>\n",
       "      <td>0.041967</td>\n",
       "    </tr>\n",
       "    <tr>\n",
       "      <th>loan_int_rate</th>\n",
       "      <td>0.012580</td>\n",
       "      <td>0.000792</td>\n",
       "      <td>-0.056405</td>\n",
       "      <td>0.146813</td>\n",
       "      <td>1.000000</td>\n",
       "      <td>0.335133</td>\n",
       "      <td>0.120314</td>\n",
       "      <td>0.016696</td>\n",
       "    </tr>\n",
       "    <tr>\n",
       "      <th>loan_status</th>\n",
       "      <td>-0.021629</td>\n",
       "      <td>-0.144449</td>\n",
       "      <td>-0.082489</td>\n",
       "      <td>0.105376</td>\n",
       "      <td>0.335133</td>\n",
       "      <td>1.000000</td>\n",
       "      <td>0.379366</td>\n",
       "      <td>-0.015529</td>\n",
       "    </tr>\n",
       "    <tr>\n",
       "      <th>loan_percent_income</th>\n",
       "      <td>-0.042411</td>\n",
       "      <td>-0.254471</td>\n",
       "      <td>-0.054111</td>\n",
       "      <td>0.572612</td>\n",
       "      <td>0.120314</td>\n",
       "      <td>0.379366</td>\n",
       "      <td>1.000000</td>\n",
       "      <td>-0.031690</td>\n",
       "    </tr>\n",
       "    <tr>\n",
       "      <th>cb_person_cred_hist_length</th>\n",
       "      <td>0.859133</td>\n",
       "      <td>0.117987</td>\n",
       "      <td>0.144699</td>\n",
       "      <td>0.041967</td>\n",
       "      <td>0.016696</td>\n",
       "      <td>-0.015529</td>\n",
       "      <td>-0.031690</td>\n",
       "      <td>1.000000</td>\n",
       "    </tr>\n",
       "  </tbody>\n",
       "</table>\n",
       "</div>"
      ],
      "text/plain": [
       "                            person_age  person_income  person_emp_length  \\\n",
       "person_age                    1.000000       0.173202           0.163106   \n",
       "person_income                 0.173202       1.000000           0.134268   \n",
       "person_emp_length             0.163106       0.134268           1.000000   \n",
       "loan_amnt                     0.050787       0.266820           0.113082   \n",
       "loan_int_rate                 0.012580       0.000792          -0.056405   \n",
       "loan_status                  -0.021629      -0.144449          -0.082489   \n",
       "loan_percent_income          -0.042411      -0.254471          -0.054111   \n",
       "cb_person_cred_hist_length    0.859133       0.117987           0.144699   \n",
       "\n",
       "                            loan_amnt  loan_int_rate  loan_status  \\\n",
       "person_age                   0.050787       0.012580    -0.021629   \n",
       "person_income                0.266820       0.000792    -0.144449   \n",
       "person_emp_length            0.113082      -0.056405    -0.082489   \n",
       "loan_amnt                    1.000000       0.146813     0.105376   \n",
       "loan_int_rate                0.146813       1.000000     0.335133   \n",
       "loan_status                  0.105376       0.335133     1.000000   \n",
       "loan_percent_income          0.572612       0.120314     0.379366   \n",
       "cb_person_cred_hist_length   0.041967       0.016696    -0.015529   \n",
       "\n",
       "                            loan_percent_income  cb_person_cred_hist_length  \n",
       "person_age                            -0.042411                    0.859133  \n",
       "person_income                         -0.254471                    0.117987  \n",
       "person_emp_length                     -0.054111                    0.144699  \n",
       "loan_amnt                              0.572612                    0.041967  \n",
       "loan_int_rate                          0.120314                    0.016696  \n",
       "loan_status                            0.379366                   -0.015529  \n",
       "loan_percent_income                    1.000000                   -0.031690  \n",
       "cb_person_cred_hist_length            -0.031690                    1.000000  "
      ]
     },
     "execution_count": 33,
     "metadata": {},
     "output_type": "execute_result"
    }
   ],
   "source": [
    "corr_matrix"
   ]
  },
  {
   "cell_type": "code",
   "execution_count": 34,
   "id": "9dc8df83",
   "metadata": {},
   "outputs": [
    {
     "data": {
      "text/plain": [
       "person_emp_length   -0.082489\n",
       "loan_int_rate        0.335133\n",
       "Name: loan_status, dtype: float64"
      ]
     },
     "execution_count": 34,
     "metadata": {},
     "output_type": "execute_result"
    }
   ],
   "source": [
    "# Check how the features correlate with the target feature\n",
    "corr_matrix['loan_status'].loc[['person_emp_length', 'loan_int_rate']]"
   ]
  },
  {
   "cell_type": "code",
   "execution_count": 35,
   "id": "0113bb2c",
   "metadata": {},
   "outputs": [],
   "source": [
    "# Remove observations with missing employment length using the .dropna() function\n",
    "credit.dropna(subset=['person_emp_length'], inplace=True)"
   ]
  },
  {
   "cell_type": "markdown",
   "id": "0fcd25e6",
   "metadata": {},
   "source": [
    "<font color='green'>There was almost no correlation found between the length of employment and the target variable. Missing values in this variable contribute to 2.75% of total values, hence rows with missing values in the employment length column can be removed from the data set</font>"
   ]
  },
  {
   "cell_type": "code",
   "execution_count": 36,
   "id": "98313b79",
   "metadata": {},
   "outputs": [
    {
     "data": {
      "text/plain": [
       "person_age                       0\n",
       "person_income                    0\n",
       "person_home_ownership            0\n",
       "person_emp_length                0\n",
       "loan_intent                      0\n",
       "loan_grade                       0\n",
       "loan_amnt                        0\n",
       "loan_int_rate                 3048\n",
       "loan_status                      0\n",
       "loan_percent_income              0\n",
       "cb_person_default_on_file        0\n",
       "cb_person_cred_hist_length       0\n",
       "dtype: int64"
      ]
     },
     "execution_count": 36,
     "metadata": {},
     "output_type": "execute_result"
    }
   ],
   "source": [
    "credit.isnull().sum()"
   ]
  },
  {
   "cell_type": "code",
   "execution_count": 37,
   "id": "f6c409c4",
   "metadata": {},
   "outputs": [],
   "source": [
    "# The number of missing values for the employment length feature now is 0. As well the number of missing values for\n",
    "# the interest rate has also decreased, meaning that there were observations who were missing both value.\n",
    "# The interest rate feature is somewhat correlated with the target feature, however there are no apparent correlation\n",
    "# between interest rate and other features, which means interest rate is specified using extraneous circumstances\n",
    "# that are outside the scope of the dataset. Hence missing values for this feature will be filled with the most\n",
    "# frequent value in the variable\n",
    "\n",
    "# ! pip install scikit-learn\n",
    "from sklearn.impute import SimpleImputer\n",
    "\n",
    "# Instantiate the SimpleImputer object\n",
    "imp_most_frequent = SimpleImputer(strategy='most_frequent')\n",
    "\n",
    "# Fit and transform the loan_int_rate variable\n",
    "credit['loan_int_rate'] = imp_most_frequent.fit_transform(credit['loan_int_rate'].values.reshape(-1, 1))\n"
   ]
  },
  {
   "cell_type": "markdown",
   "id": "2d3698a7",
   "metadata": {},
   "source": [
    "<font color='green'>The interest rate is somewhat correlated (0.335) with the target variable, but does not correlate to other features. This could be due to interest rates being set based on extraneous circumstances, hence to avoid having to drop observations, missing values for this column are filled in with the mode of the column using a SimpleImputer</font>"
   ]
  },
  {
   "cell_type": "code",
   "execution_count": 38,
   "id": "c0a79630",
   "metadata": {},
   "outputs": [
    {
     "data": {
      "text/plain": [
       "person_age                    0\n",
       "person_income                 0\n",
       "person_home_ownership         0\n",
       "person_emp_length             0\n",
       "loan_intent                   0\n",
       "loan_grade                    0\n",
       "loan_amnt                     0\n",
       "loan_int_rate                 0\n",
       "loan_status                   0\n",
       "loan_percent_income           0\n",
       "cb_person_default_on_file     0\n",
       "cb_person_cred_hist_length    0\n",
       "dtype: int64"
      ]
     },
     "execution_count": 38,
     "metadata": {},
     "output_type": "execute_result"
    }
   ],
   "source": [
    "# Check if any missing values still remain in the dataset\n",
    "credit.isnull().sum()"
   ]
  },
  {
   "cell_type": "markdown",
   "id": "9a91fc19",
   "metadata": {},
   "source": [
    "<font color='green'>***All missing values in the dataset have been handled!***</font>"
   ]
  },
  {
   "cell_type": "markdown",
   "id": "1115429c",
   "metadata": {},
   "source": [
    "### <font color='green'>Handling Outliers</font>"
   ]
  },
  {
   "cell_type": "code",
   "execution_count": 75,
   "id": "33eb8f71",
   "metadata": {},
   "outputs": [
    {
     "data": {
      "image/png": "[encoded data removed]",
      "text/plain": [
       "<Figure size 864x864 with 3 Axes>"
      ]
     },
     "metadata": {},
     "output_type": "display_data"
    }
   ],
   "source": [
    "# To enhance the accuracy of the predictive model, outliers in the dataset must be handled first\n",
    "# Visualize the three input features with potential outliers\n",
    "cols = ['person_age', 'person_income', 'person_emp_length']\n",
    "\n",
    "def visualize_outliers(cols):\n",
    "    fig = plt.figure(figsize=(12, 12))\n",
    "    for i in range(0, len(cols)):\n",
    "        ax = fig.add_subplot(2, 2, i+1)\n",
    "        ax = sns.boxplot(x=credit[cols[i]])\n",
    "\n",
    "visualize_outliers(cols)"
   ]
  },
  {
   "cell_type": "markdown",
   "id": "2b1dba60",
   "metadata": {},
   "source": [
    "<font color='green'>The boxplots above show that all three columns have some large outliers which could be the result of a mistake when inputting data, such as person age >140 years</font>"
   ]
  },
  {
   "cell_type": "code",
   "execution_count": 40,
   "id": "9dfc519b",
   "metadata": {},
   "outputs": [],
   "source": [
    "def cal_upper_limit(feature):\n",
    "    # Method to calculate the maximum values at the whiskers (Q3 + (1.5 * IQR))\n",
    "    IQR = credit[feature].quantile(0.75) - credit[feature].quantile(0.25) # Inter Quantile Range\n",
    "    return credit[feature].quantile(0.75) + (1.5 * IQR)\n",
    "\n",
    "# Calculate the upper limit for all columns\n",
    "limit_dict = {col:cal_upper_limit(col) for col in cols}\n",
    "\n",
    "# Remove values from the dataset that are above the upper limit\n",
    "for col, limit in limit_dict.items():\n",
    "    credit = credit[(credit[col] < limit)]"
   ]
  },
  {
   "cell_type": "code",
   "execution_count": 76,
   "id": "39a6e758",
   "metadata": {},
   "outputs": [
    {
     "data": {
      "image/png": "[encoded data removed]",
      "text/plain": [
       "<Figure size 864x864 with 3 Axes>"
      ]
     },
     "metadata": {},
     "output_type": "display_data"
    }
   ],
   "source": [
    "\"\"\"fig = plt.figure(figsize=(12, 12))\n",
    "for i in range(0, len(cols)):\n",
    "    ax = fig.add_subplot(2, 2, i+1)\n",
    "    ax = sns.boxplot(x=credit[cols[i]])\"\"\"\n",
    "# Create the boxplots after removing the outliers\n",
    "visualize_outliers(cols)"
   ]
  },
  {
   "cell_type": "markdown",
   "id": "d91ba177",
   "metadata": {},
   "source": [
    "<font color='green'>***Outliers for these columns are handled by dropping values located outside the upper whisker of the boxplot. This results in more maintanable and less noisy data in these columns.***</font>"
   ]
  },
  {
   "cell_type": "markdown",
   "id": "c7d85852",
   "metadata": {},
   "source": [
    "### <font color='green'>Encoding Categorical Variables</font>"
   ]
  },
  {
   "cell_type": "code",
   "execution_count": 42,
   "id": "40f22bb2",
   "metadata": {},
   "outputs": [],
   "source": [
    "# 1/3 of the features in the dataset are categorical hence these must be transformed into integers prior fitting the\n",
    "# data on the model\n",
    "# It can be assumed that the loan_grade feature is ordinal, meaning that the categorical values have an order and\n",
    "# range from best to worst (from A to G).\n",
    "# OrdinalEncoder from the Scikit-Learn library can be used to encode this feature while also maintaining the order of\n",
    "# it's values\n",
    "from sklearn.preprocessing import OrdinalEncoder\n",
    "\n",
    "# Instantiate the encoder, passing in the category values\n",
    "ordinal_encoder = OrdinalEncoder(categories=[['A', 'B', 'C', 'D', 'E', 'F', 'G']])\n",
    "\n",
    "loan_grade_reshaped = credit['loan_grade'].values.reshape(-1, 1)  # reshape the feature into a 2-D np array\n",
    "\n",
    "# Fit the array to the scaler and transform the feature in the DataFrame\n",
    "credit['loan_grade'] = ordinal_encoder.fit_transform(loan_grade_reshaped)\n"
   ]
  },
  {
   "cell_type": "markdown",
   "id": "3af0245e",
   "metadata": {},
   "source": [
    "<font color='green'>**Loan grade**: Assuming that the values in this column follow an order, using OrdinalEncoder from the sklearn preprocessing module, values are transformed to numerical while maintaining the order</font>"
   ]
  },
  {
   "cell_type": "code",
   "execution_count": 43,
   "id": "53265adb",
   "metadata": {},
   "outputs": [],
   "source": [
    "# The 'cb_person_default_on_file' feature values are already in binary True or False represented as Y or N\n",
    "# Using the .replace() function, string values can be converted into integers (1 or 0)\n",
    "credit['cb_person_default_on_file'].replace(['Y', 'N'], [1, 0], inplace=True)"
   ]
  },
  {
   "cell_type": "markdown",
   "id": "6f9a55cf",
   "metadata": {},
   "source": [
    "<font color='green'>**Default on file**: This is a binary variable, hence 'Y' and 'N' values can be updated to corresponding 1s and 0s using Pandas' .replace() method</font>"
   ]
  },
  {
   "cell_type": "code",
   "execution_count": 44,
   "id": "5fb2ce77",
   "metadata": {},
   "outputs": [],
   "source": [
    "# For handling the rest of the categorical features, One-Hot-Encoding (OHE) is used to create a dummy variable \n",
    "# for each values in the variable\n",
    "# OHE can be argued as not space efficient, if there are features with a wide variety of values, BinaryEncoder \n",
    "# could be used to reduce the sparse matrix, by converting each category to its binary representation\n",
    "\n",
    "# Using the Pandas' .get_dummies() function to create dummy variables\n",
    "ohe = pd.get_dummies(credit[['person_home_ownership', 'loan_intent']])\n",
    "\n",
    "credit = pd.concat([credit, ohe], axis=1)  # Concatenate the dummy DataFrame with the original DataFrame\n",
    "\n",
    "# Drop the original categorical columns\n",
    "credit.drop(columns=['person_home_ownership', 'loan_intent'], inplace=True)"
   ]
  },
  {
   "cell_type": "markdown",
   "id": "b223a951",
   "metadata": {},
   "source": [
    "<font color='green'>**Home ownership** and **Loan intent**: These variables can be encoded using OHE. OHE essentially is not efficient in terms of space, however in case of this dataset, the number of unique values in these columns are relatively small</font>"
   ]
  },
  {
   "cell_type": "code",
   "execution_count": 45,
   "id": "ddf1f5c6",
   "metadata": {},
   "outputs": [
    {
     "data": {
      "text/html": [
       "<div>\n",
       "<style scoped>\n",
       "    .dataframe tbody tr th:only-of-type {\n",
       "        vertical-align: middle;\n",
       "    }\n",
       "\n",
       "    .dataframe tbody tr th {\n",
       "        vertical-align: top;\n",
       "    }\n",
       "\n",
       "    .dataframe thead th {\n",
       "        text-align: right;\n",
       "    }\n",
       "</style>\n",
       "<table border=\"1\" class=\"dataframe\">\n",
       "  <thead>\n",
       "    <tr style=\"text-align: right;\">\n",
       "      <th></th>\n",
       "      <th>person_age</th>\n",
       "      <th>person_income</th>\n",
       "      <th>person_emp_length</th>\n",
       "      <th>loan_grade</th>\n",
       "      <th>loan_amnt</th>\n",
       "      <th>loan_int_rate</th>\n",
       "      <th>loan_status</th>\n",
       "      <th>loan_percent_income</th>\n",
       "      <th>cb_person_default_on_file</th>\n",
       "      <th>cb_person_cred_hist_length</th>\n",
       "      <th>person_home_ownership_MORTGAGE</th>\n",
       "      <th>person_home_ownership_OTHER</th>\n",
       "      <th>person_home_ownership_OWN</th>\n",
       "      <th>person_home_ownership_RENT</th>\n",
       "      <th>loan_intent_DEBTCONSOLIDATION</th>\n",
       "      <th>loan_intent_EDUCATION</th>\n",
       "      <th>loan_intent_HOMEIMPROVEMENT</th>\n",
       "      <th>loan_intent_MEDICAL</th>\n",
       "      <th>loan_intent_PERSONAL</th>\n",
       "      <th>loan_intent_VENTURE</th>\n",
       "    </tr>\n",
       "  </thead>\n",
       "  <tbody>\n",
       "    <tr>\n",
       "      <th>1</th>\n",
       "      <td>21</td>\n",
       "      <td>9600</td>\n",
       "      <td>5.0</td>\n",
       "      <td>1.0</td>\n",
       "      <td>1000</td>\n",
       "      <td>11.14</td>\n",
       "      <td>0</td>\n",
       "      <td>0.10</td>\n",
       "      <td>0</td>\n",
       "      <td>2</td>\n",
       "      <td>0</td>\n",
       "      <td>0</td>\n",
       "      <td>1</td>\n",
       "      <td>0</td>\n",
       "      <td>0</td>\n",
       "      <td>1</td>\n",
       "      <td>0</td>\n",
       "      <td>0</td>\n",
       "      <td>0</td>\n",
       "      <td>0</td>\n",
       "    </tr>\n",
       "    <tr>\n",
       "      <th>2</th>\n",
       "      <td>25</td>\n",
       "      <td>9600</td>\n",
       "      <td>1.0</td>\n",
       "      <td>2.0</td>\n",
       "      <td>5500</td>\n",
       "      <td>12.87</td>\n",
       "      <td>1</td>\n",
       "      <td>0.57</td>\n",
       "      <td>0</td>\n",
       "      <td>3</td>\n",
       "      <td>1</td>\n",
       "      <td>0</td>\n",
       "      <td>0</td>\n",
       "      <td>0</td>\n",
       "      <td>0</td>\n",
       "      <td>0</td>\n",
       "      <td>0</td>\n",
       "      <td>1</td>\n",
       "      <td>0</td>\n",
       "      <td>0</td>\n",
       "    </tr>\n",
       "    <tr>\n",
       "      <th>3</th>\n",
       "      <td>23</td>\n",
       "      <td>65500</td>\n",
       "      <td>4.0</td>\n",
       "      <td>2.0</td>\n",
       "      <td>35000</td>\n",
       "      <td>15.23</td>\n",
       "      <td>1</td>\n",
       "      <td>0.53</td>\n",
       "      <td>0</td>\n",
       "      <td>2</td>\n",
       "      <td>0</td>\n",
       "      <td>0</td>\n",
       "      <td>0</td>\n",
       "      <td>1</td>\n",
       "      <td>0</td>\n",
       "      <td>0</td>\n",
       "      <td>0</td>\n",
       "      <td>1</td>\n",
       "      <td>0</td>\n",
       "      <td>0</td>\n",
       "    </tr>\n",
       "    <tr>\n",
       "      <th>4</th>\n",
       "      <td>24</td>\n",
       "      <td>54400</td>\n",
       "      <td>8.0</td>\n",
       "      <td>2.0</td>\n",
       "      <td>35000</td>\n",
       "      <td>14.27</td>\n",
       "      <td>1</td>\n",
       "      <td>0.55</td>\n",
       "      <td>1</td>\n",
       "      <td>4</td>\n",
       "      <td>0</td>\n",
       "      <td>0</td>\n",
       "      <td>0</td>\n",
       "      <td>1</td>\n",
       "      <td>0</td>\n",
       "      <td>0</td>\n",
       "      <td>0</td>\n",
       "      <td>1</td>\n",
       "      <td>0</td>\n",
       "      <td>0</td>\n",
       "    </tr>\n",
       "    <tr>\n",
       "      <th>5</th>\n",
       "      <td>21</td>\n",
       "      <td>9900</td>\n",
       "      <td>2.0</td>\n",
       "      <td>0.0</td>\n",
       "      <td>2500</td>\n",
       "      <td>7.14</td>\n",
       "      <td>1</td>\n",
       "      <td>0.25</td>\n",
       "      <td>0</td>\n",
       "      <td>2</td>\n",
       "      <td>0</td>\n",
       "      <td>0</td>\n",
       "      <td>1</td>\n",
       "      <td>0</td>\n",
       "      <td>0</td>\n",
       "      <td>0</td>\n",
       "      <td>0</td>\n",
       "      <td>0</td>\n",
       "      <td>0</td>\n",
       "      <td>1</td>\n",
       "    </tr>\n",
       "  </tbody>\n",
       "</table>\n",
       "</div>"
      ],
      "text/plain": [
       "   person_age  person_income  person_emp_length  loan_grade  loan_amnt  \\\n",
       "1          21           9600                5.0         1.0       1000   \n",
       "2          25           9600                1.0         2.0       5500   \n",
       "3          23          65500                4.0         2.0      35000   \n",
       "4          24          54400                8.0         2.0      35000   \n",
       "5          21           9900                2.0         0.0       2500   \n",
       "\n",
       "   loan_int_rate  loan_status  loan_percent_income  cb_person_default_on_file  \\\n",
       "1          11.14            0                 0.10                          0   \n",
       "2          12.87            1                 0.57                          0   \n",
       "3          15.23            1                 0.53                          0   \n",
       "4          14.27            1                 0.55                          1   \n",
       "5           7.14            1                 0.25                          0   \n",
       "\n",
       "   cb_person_cred_hist_length  person_home_ownership_MORTGAGE  \\\n",
       "1                           2                               0   \n",
       "2                           3                               1   \n",
       "3                           2                               0   \n",
       "4                           4                               0   \n",
       "5                           2                               0   \n",
       "\n",
       "   person_home_ownership_OTHER  person_home_ownership_OWN  \\\n",
       "1                            0                          1   \n",
       "2                            0                          0   \n",
       "3                            0                          0   \n",
       "4                            0                          0   \n",
       "5                            0                          1   \n",
       "\n",
       "   person_home_ownership_RENT  loan_intent_DEBTCONSOLIDATION  \\\n",
       "1                           0                              0   \n",
       "2                           0                              0   \n",
       "3                           1                              0   \n",
       "4                           1                              0   \n",
       "5                           0                              0   \n",
       "\n",
       "   loan_intent_EDUCATION  loan_intent_HOMEIMPROVEMENT  loan_intent_MEDICAL  \\\n",
       "1                      1                            0                    0   \n",
       "2                      0                            0                    1   \n",
       "3                      0                            0                    1   \n",
       "4                      0                            0                    1   \n",
       "5                      0                            0                    0   \n",
       "\n",
       "   loan_intent_PERSONAL  loan_intent_VENTURE  \n",
       "1                     0                    0  \n",
       "2                     0                    0  \n",
       "3                     0                    0  \n",
       "4                     0                    0  \n",
       "5                     0                    1  "
      ]
     },
     "execution_count": 45,
     "metadata": {},
     "output_type": "execute_result"
    }
   ],
   "source": [
    "# Visualize the new credit DataFrame\n",
    "credit.head()"
   ]
  },
  {
   "cell_type": "code",
   "execution_count": 46,
   "id": "f105d32a",
   "metadata": {
    "scrolled": true
   },
   "outputs": [
    {
     "name": "stdout",
     "output_type": "stream",
     "text": [
      "<class 'pandas.core.frame.DataFrame'>\n",
      "Int64Index: 28259 entries, 1 to 32296\n",
      "Data columns (total 20 columns):\n",
      " #   Column                          Non-Null Count  Dtype  \n",
      "---  ------                          --------------  -----  \n",
      " 0   person_age                      28259 non-null  int64  \n",
      " 1   person_income                   28259 non-null  int64  \n",
      " 2   person_emp_length               28259 non-null  float64\n",
      " 3   loan_grade                      28259 non-null  float64\n",
      " 4   loan_amnt                       28259 non-null  int64  \n",
      " 5   loan_int_rate                   28259 non-null  float64\n",
      " 6   loan_status                     28259 non-null  int64  \n",
      " 7   loan_percent_income             28259 non-null  float64\n",
      " 8   cb_person_default_on_file       28259 non-null  int64  \n",
      " 9   cb_person_cred_hist_length      28259 non-null  int64  \n",
      " 10  person_home_ownership_MORTGAGE  28259 non-null  uint8  \n",
      " 11  person_home_ownership_OTHER     28259 non-null  uint8  \n",
      " 12  person_home_ownership_OWN       28259 non-null  uint8  \n",
      " 13  person_home_ownership_RENT      28259 non-null  uint8  \n",
      " 14  loan_intent_DEBTCONSOLIDATION   28259 non-null  uint8  \n",
      " 15  loan_intent_EDUCATION           28259 non-null  uint8  \n",
      " 16  loan_intent_HOMEIMPROVEMENT     28259 non-null  uint8  \n",
      " 17  loan_intent_MEDICAL             28259 non-null  uint8  \n",
      " 18  loan_intent_PERSONAL            28259 non-null  uint8  \n",
      " 19  loan_intent_VENTURE             28259 non-null  uint8  \n",
      "dtypes: float64(4), int64(6), uint8(10)\n",
      "memory usage: 2.6 MB\n"
     ]
    }
   ],
   "source": [
    "# Call .info() to check the updated dtypes\n",
    "credit.info()"
   ]
  },
  {
   "cell_type": "markdown",
   "id": "a09d5315",
   "metadata": {},
   "source": [
    "<font color='green'>***All variables in the dataset are of numerical type!***</font>"
   ]
  },
  {
   "cell_type": "markdown",
   "id": "14534b6d",
   "metadata": {},
   "source": [
    "### <font color='green'>Feature Scaling</font>"
   ]
  },
  {
   "cell_type": "code",
   "execution_count": 47,
   "id": "7c575d15",
   "metadata": {
    "scrolled": true
   },
   "outputs": [
    {
     "data": {
      "text/html": [
       "<div>\n",
       "<style scoped>\n",
       "    .dataframe tbody tr th:only-of-type {\n",
       "        vertical-align: middle;\n",
       "    }\n",
       "\n",
       "    .dataframe tbody tr th {\n",
       "        vertical-align: top;\n",
       "    }\n",
       "\n",
       "    .dataframe thead th {\n",
       "        text-align: right;\n",
       "    }\n",
       "</style>\n",
       "<table border=\"1\" class=\"dataframe\">\n",
       "  <thead>\n",
       "    <tr style=\"text-align: right;\">\n",
       "      <th></th>\n",
       "      <th>person_age</th>\n",
       "      <th>person_income</th>\n",
       "      <th>person_emp_length</th>\n",
       "      <th>loan_amnt</th>\n",
       "      <th>loan_int_rate</th>\n",
       "      <th>cb_person_cred_hist_length</th>\n",
       "    </tr>\n",
       "  </thead>\n",
       "  <tbody>\n",
       "    <tr>\n",
       "      <th>count</th>\n",
       "      <td>28259.000000</td>\n",
       "      <td>28259.000000</td>\n",
       "      <td>28259.000000</td>\n",
       "      <td>28259.000000</td>\n",
       "      <td>28259.000000</td>\n",
       "      <td>28259.000000</td>\n",
       "    </tr>\n",
       "    <tr>\n",
       "      <th>mean</th>\n",
       "      <td>0.327968</td>\n",
       "      <td>0.400369</td>\n",
       "      <td>0.312790</td>\n",
       "      <td>0.255701</td>\n",
       "      <td>0.315215</td>\n",
       "      <td>0.211494</td>\n",
       "    </tr>\n",
       "    <tr>\n",
       "      <th>std</th>\n",
       "      <td>0.219663</td>\n",
       "      <td>0.199800</td>\n",
       "      <td>0.242064</td>\n",
       "      <td>0.174576</td>\n",
       "      <td>0.171967</td>\n",
       "      <td>0.216640</td>\n",
       "    </tr>\n",
       "    <tr>\n",
       "      <th>min</th>\n",
       "      <td>0.000000</td>\n",
       "      <td>0.000000</td>\n",
       "      <td>0.000000</td>\n",
       "      <td>0.000000</td>\n",
       "      <td>0.000000</td>\n",
       "      <td>0.000000</td>\n",
       "    </tr>\n",
       "    <tr>\n",
       "      <th>25%</th>\n",
       "      <td>0.150000</td>\n",
       "      <td>0.247917</td>\n",
       "      <td>0.142857</td>\n",
       "      <td>0.130435</td>\n",
       "      <td>0.172472</td>\n",
       "      <td>0.066667</td>\n",
       "    </tr>\n",
       "    <tr>\n",
       "      <th>50%</th>\n",
       "      <td>0.250000</td>\n",
       "      <td>0.364859</td>\n",
       "      <td>0.285714</td>\n",
       "      <td>0.217391</td>\n",
       "      <td>0.312921</td>\n",
       "      <td>0.133333</td>\n",
       "    </tr>\n",
       "    <tr>\n",
       "      <th>75%</th>\n",
       "      <td>0.450000</td>\n",
       "      <td>0.518345</td>\n",
       "      <td>0.500000</td>\n",
       "      <td>0.333333</td>\n",
       "      <td>0.434831</td>\n",
       "      <td>0.333333</td>\n",
       "    </tr>\n",
       "    <tr>\n",
       "      <th>max</th>\n",
       "      <td>1.000000</td>\n",
       "      <td>1.000000</td>\n",
       "      <td>1.000000</td>\n",
       "      <td>1.000000</td>\n",
       "      <td>1.000000</td>\n",
       "      <td>1.000000</td>\n",
       "    </tr>\n",
       "  </tbody>\n",
       "</table>\n",
       "</div>"
      ],
      "text/plain": [
       "         person_age  person_income  person_emp_length     loan_amnt  \\\n",
       "count  28259.000000   28259.000000       28259.000000  28259.000000   \n",
       "mean       0.327968       0.400369           0.312790      0.255701   \n",
       "std        0.219663       0.199800           0.242064      0.174576   \n",
       "min        0.000000       0.000000           0.000000      0.000000   \n",
       "25%        0.150000       0.247917           0.142857      0.130435   \n",
       "50%        0.250000       0.364859           0.285714      0.217391   \n",
       "75%        0.450000       0.518345           0.500000      0.333333   \n",
       "max        1.000000       1.000000           1.000000      1.000000   \n",
       "\n",
       "       loan_int_rate  cb_person_cred_hist_length  \n",
       "count   28259.000000                28259.000000  \n",
       "mean        0.315215                    0.211494  \n",
       "std         0.171967                    0.216640  \n",
       "min         0.000000                    0.000000  \n",
       "25%         0.172472                    0.066667  \n",
       "50%         0.312921                    0.133333  \n",
       "75%         0.434831                    0.333333  \n",
       "max         1.000000                    1.000000  "
      ]
     },
     "execution_count": 47,
     "metadata": {},
     "output_type": "execute_result"
    }
   ],
   "source": [
    "# As it was shown above, numerical feature values are on different scales as well as they do not follow normal\n",
    "# distribution. \n",
    "# To attend this issue, data will be normalized using a MinMaxScaler() to scale values between 0 and 1\n",
    "from sklearn.preprocessing import MinMaxScaler\n",
    "\n",
    "scaler = MinMaxScaler()  # Create a new scaler object\n",
    "# Select features to scale - loan_status is the target variable, loan_percent_income is already on scale\n",
    "num_cols_to_scale = [col for col in credit_num_cols if col not in ['loan_status', 'loan_percent_income']]\n",
    "\n",
    "credit[num_cols_to_scale] = scaler.fit_transform(credit[num_cols_to_scale])  # Fit the data to the scaler\n",
    "\n",
    "credit[num_cols_to_scale].describe()"
   ]
  },
  {
   "cell_type": "markdown",
   "id": "26063ffe",
   "metadata": {},
   "source": [
    "<font color='green'>As it was identified during data exploration, numerical variables in the dataset are on a different scale. This problem can be handled using a MinMaxScaler which essentially scales all numerical features to the same range - in this case between 0 and 1 where 0 is the minimum value and 1 is the maximum for the given variable </font>"
   ]
  },
  {
   "cell_type": "markdown",
   "id": "7d66fd0f",
   "metadata": {},
   "source": [
    "<font color='green'>***Following applying a MinMaxScaler, all all numerical features are on the same scale!***</font>"
   ]
  },
  {
   "cell_type": "markdown",
   "id": "f2c3bd05",
   "metadata": {},
   "source": [
    "### <font color='green'>Training and Validation Sets</font>"
   ]
  },
  {
   "cell_type": "code",
   "execution_count": 48,
   "id": "4482e4f5",
   "metadata": {},
   "outputs": [],
   "source": [
    "# Save the input features into a variable (X)\n",
    "X = credit.drop('loan_status', axis=1)"
   ]
  },
  {
   "cell_type": "code",
   "execution_count": 49,
   "id": "2b589452",
   "metadata": {},
   "outputs": [],
   "source": [
    "# Save the target variable into a variable (y)\n",
    "y = credit['loan_status']"
   ]
  },
  {
   "cell_type": "code",
   "execution_count": 50,
   "id": "f7443648",
   "metadata": {},
   "outputs": [],
   "source": [
    "# Split the dataset into Training and Testing sets using the train_test_split() function from sklearn's\n",
    "# model_selection library\n",
    "from sklearn.model_selection import train_test_split # import the module\n",
    "\n",
    "X_train, X_test, y_train, y_test = train_test_split(X, y, train_size=0.8, random_state=42)"
   ]
  },
  {
   "cell_type": "code",
   "execution_count": 51,
   "id": "5e5d9efb",
   "metadata": {},
   "outputs": [
    {
     "data": {
      "text/plain": [
       "0    0.776972\n",
       "1    0.223028\n",
       "Name: loan_status, dtype: float64"
      ]
     },
     "execution_count": 51,
     "metadata": {},
     "output_type": "execute_result"
    }
   ],
   "source": [
    "# Check the class distribution in the training set after the split\n",
    "y_train.value_counts(normalize=True)"
   ]
  },
  {
   "cell_type": "code",
   "execution_count": 52,
   "id": "457efc49",
   "metadata": {},
   "outputs": [
    {
     "data": {
      "text/plain": [
       "0    0.780786\n",
       "1    0.219214\n",
       "Name: loan_status, dtype: float64"
      ]
     },
     "execution_count": 52,
     "metadata": {},
     "output_type": "execute_result"
    }
   ],
   "source": [
    "# Check the class distribution in the validation set after the split\n",
    "y_test.value_counts(normalize=True)"
   ]
  },
  {
   "cell_type": "markdown",
   "id": "71878f18",
   "metadata": {},
   "source": [
    "## Building the Classification Model"
   ]
  },
  {
   "cell_type": "markdown",
   "id": "0c53f085",
   "metadata": {},
   "source": [
    "_The aim of the project is to predict that an instance belongs to a particular class, and therefore it is a classification problem._ (Since the problem involves only two labels, it is a binary classification)\n",
    "\n",
    "The first model that will be built and evaluated for this purpose is a **Logistic Regression Model**."
   ]
  },
  {
   "cell_type": "markdown",
   "id": "ad79640e",
   "metadata": {},
   "source": [
    "### <font color='green'>Logistic Regression Model</font>"
   ]
  },
  {
   "cell_type": "markdown",
   "id": "f384e48b",
   "metadata": {},
   "source": [
    "#### Building and Training the Model"
   ]
  },
  {
   "cell_type": "code",
   "execution_count": 53,
   "id": "2413629a",
   "metadata": {},
   "outputs": [],
   "source": [
    "# Import the LogisticRegression class and instantiate the model\n",
    "from sklearn.linear_model import LogisticRegression\n",
    "\n",
    "lg_model = LogisticRegression(class_weight='balanced')\n",
    "# Set class_weight parameter to adjust class weights inversely proportional to class distribution"
   ]
  },
  {
   "cell_type": "code",
   "execution_count": 54,
   "id": "0ef49939",
   "metadata": {},
   "outputs": [
    {
     "data": {
      "text/html": [
       "<style>#sk-container-id-1 {color: black;background-color: white;}#sk-container-id-1 pre{padding: 0;}#sk-container-id-1 div.sk-toggleable {background-color: white;}#sk-container-id-1 label.sk-toggleable__label {cursor: pointer;display: block;width: 100%;margin-bottom: 0;padding: 0.3em;box-sizing: border-box;text-align: center;}#sk-container-id-1 label.sk-toggleable__label-arrow:before {content: \"▸\";float: left;margin-right: 0.25em;color: #696969;}#sk-container-id-1 label.sk-toggleable__label-arrow:hover:before {color: black;}#sk-container-id-1 div.sk-estimator:hover label.sk-toggleable__label-arrow:before {color: black;}#sk-container-id-1 div.sk-toggleable__content {max-height: 0;max-width: 0;overflow: hidden;text-align: left;background-color: #f0f8ff;}#sk-container-id-1 div.sk-toggleable__content pre {margin: 0.2em;color: black;border-radius: 0.25em;background-color: #f0f8ff;}#sk-container-id-1 input.sk-toggleable__control:checked~div.sk-toggleable__content {max-height: 200px;max-width: 100%;overflow: auto;}#sk-container-id-1 input.sk-toggleable__control:checked~label.sk-toggleable__label-arrow:before {content: \"▾\";}#sk-container-id-1 div.sk-estimator input.sk-toggleable__control:checked~label.sk-toggleable__label {background-color: #d4ebff;}#sk-container-id-1 div.sk-label input.sk-toggleable__control:checked~label.sk-toggleable__label {background-color: #d4ebff;}#sk-container-id-1 input.sk-hidden--visually {border: 0;clip: rect(1px 1px 1px 1px);clip: rect(1px, 1px, 1px, 1px);height: 1px;margin: -1px;overflow: hidden;padding: 0;position: absolute;width: 1px;}#sk-container-id-1 div.sk-estimator {font-family: monospace;background-color: #f0f8ff;border: 1px dotted black;border-radius: 0.25em;box-sizing: border-box;margin-bottom: 0.5em;}#sk-container-id-1 div.sk-estimator:hover {background-color: #d4ebff;}#sk-container-id-1 div.sk-parallel-item::after {content: \"\";width: 100%;border-bottom: 1px solid gray;flex-grow: 1;}#sk-container-id-1 div.sk-label:hover label.sk-toggleable__label {background-color: #d4ebff;}#sk-container-id-1 div.sk-serial::before {content: \"\";position: absolute;border-left: 1px solid gray;box-sizing: border-box;top: 0;bottom: 0;left: 50%;z-index: 0;}#sk-container-id-1 div.sk-serial {display: flex;flex-direction: column;align-items: center;background-color: white;padding-right: 0.2em;padding-left: 0.2em;position: relative;}#sk-container-id-1 div.sk-item {position: relative;z-index: 1;}#sk-container-id-1 div.sk-parallel {display: flex;align-items: stretch;justify-content: center;background-color: white;position: relative;}#sk-container-id-1 div.sk-item::before, #sk-container-id-1 div.sk-parallel-item::before {content: \"\";position: absolute;border-left: 1px solid gray;box-sizing: border-box;top: 0;bottom: 0;left: 50%;z-index: -1;}#sk-container-id-1 div.sk-parallel-item {display: flex;flex-direction: column;z-index: 1;position: relative;background-color: white;}#sk-container-id-1 div.sk-parallel-item:first-child::after {align-self: flex-end;width: 50%;}#sk-container-id-1 div.sk-parallel-item:last-child::after {align-self: flex-start;width: 50%;}#sk-container-id-1 div.sk-parallel-item:only-child::after {width: 0;}#sk-container-id-1 div.sk-dashed-wrapped {border: 1px dashed gray;margin: 0 0.4em 0.5em 0.4em;box-sizing: border-box;padding-bottom: 0.4em;background-color: white;}#sk-container-id-1 div.sk-label label {font-family: monospace;font-weight: bold;display: inline-block;line-height: 1.2em;}#sk-container-id-1 div.sk-label-container {text-align: center;}#sk-container-id-1 div.sk-container {/* jupyter's `normalize.less` sets `[hidden] { display: none; }` but bootstrap.min.css set `[hidden] { display: none !important; }` so we also need the `!important` here to be able to override the default hidden behavior on the sphinx rendered scikit-learn.org. See: https://github.com/scikit-learn/scikit-learn/issues/21755 */display: inline-block !important;position: relative;}#sk-container-id-1 div.sk-text-repr-fallback {display: none;}</style><div id=\"sk-container-id-1\" class=\"sk-top-container\"><div class=\"sk-text-repr-fallback\"><pre>LogisticRegression(class_weight=&#x27;balanced&#x27;)</pre><b>In a Jupyter environment, please rerun this cell to show the HTML representation or trust the notebook. <br />On GitHub, the HTML representation is unable to render, please try loading this page with nbviewer.org.</b></div><div class=\"sk-container\" hidden><div class=\"sk-item\"><div class=\"sk-estimator sk-toggleable\"><input class=\"sk-toggleable__control sk-hidden--visually\" id=\"sk-estimator-id-1\" type=\"checkbox\" checked><label for=\"sk-estimator-id-1\" class=\"sk-toggleable__label sk-toggleable__label-arrow\">LogisticRegression</label><div class=\"sk-toggleable__content\"><pre>LogisticRegression(class_weight=&#x27;balanced&#x27;)</pre></div></div></div></div></div>"
      ],
      "text/plain": [
       "LogisticRegression(class_weight='balanced')"
      ]
     },
     "execution_count": 54,
     "metadata": {},
     "output_type": "execute_result"
    }
   ],
   "source": [
    "# Train the model using the Training set of features and labels\n",
    "lg_model.fit(X_train, y_train)"
   ]
  },
  {
   "cell_type": "code",
   "execution_count": 55,
   "id": "3e67be28",
   "metadata": {},
   "outputs": [],
   "source": [
    "# Use the model to make predictions on unseen data (X_test) and save it to a variable\n",
    "y_pred = lg_model.predict(X_test)\n",
    "# y_pred  # Array of binary 1s and 0s"
   ]
  },
  {
   "cell_type": "markdown",
   "id": "325c9adf",
   "metadata": {},
   "source": [
    "#### Logistic Regression Model Evaluation"
   ]
  },
  {
   "cell_type": "code",
   "execution_count": 56,
   "id": "39e96288",
   "metadata": {},
   "outputs": [
    {
     "data": {
      "text/plain": [
       "array([[3478,  935],\n",
       "       [ 266,  973]])"
      ]
     },
     "execution_count": 56,
     "metadata": {},
     "output_type": "execute_result"
    }
   ],
   "source": [
    "# Create a Confusion Matrix to evaluate the accuracy of the model\n",
    "# The Confusion Matrix returns a 2D array containing the results from comparing predicted values to the actual\n",
    "# values representing True Negatives, False Positives, False Negatives and True Positives\n",
    "from sklearn.metrics import confusion_matrix\n",
    "\n",
    "confusion_matrix(y_pred=y_pred, y_true=y_test)\n",
    "# In terms of predicting instances with class label of 0, the model was fairly accurate, however in terms of\n",
    "# positive classes almost half of the predictions were False Positive"
   ]
  },
  {
   "cell_type": "code",
   "execution_count": 57,
   "id": "b4d5fdc7",
   "metadata": {},
   "outputs": [
    {
     "name": "stdout",
     "output_type": "stream",
     "text": [
      "Accuracy score for Logistic Regression model: 0.7875088464260439.\n"
     ]
    }
   ],
   "source": [
    "# To define a score for the model's accuracy based on the Confusion Matrix, the accuracy_score() function can be \n",
    "# used. The model's accuracy can be calculated by dividing the number of correctly classified predictions by the \n",
    "# total number of predictions\n",
    "from sklearn.metrics import accuracy_score\n",
    "print(f'Accuracy score for Logistic Regression model: {accuracy_score(y_test, y_pred)}.')\n",
    "# The predictions of the model were correct 78.75% of time"
   ]
  },
  {
   "cell_type": "code",
   "execution_count": 58,
   "id": "d0051e98",
   "metadata": {},
   "outputs": [
    {
     "name": "stdout",
     "output_type": "stream",
     "text": [
      "The sensitivity of the Logistic Regression model: 0.7853107344632768.\n"
     ]
    }
   ],
   "source": [
    "# Check the sensitivity (Recall) of the model - the ratio of positive classes correctly predictied by the \n",
    "# classifier\n",
    "from sklearn.metrics import recall_score\n",
    "print(f'The sensitivity of the Logistic Regression model: {recall_score(y_test, y_pred)}.')"
   ]
  },
  {
   "cell_type": "code",
   "execution_count": 59,
   "id": "fea5e9bd",
   "metadata": {},
   "outputs": [
    {
     "name": "stdout",
     "output_type": "stream",
     "text": [
      "The precision of the Logistic Regression model: 0.509958071278826\n"
     ]
    }
   ],
   "source": [
    "# Check how accurately the model can predict positive predictions by calculating the model's precision\n",
    "from sklearn.metrics import precision_score\n",
    "print(f'The precision of the Logistic Regression model: {precision_score(y_test, y_pred)}')\n",
    "# As shown in the confusion matrix the model is not very accurate when it comes to predicting positive classes, \n",
    "# almost the half of the predictions were incorrect"
   ]
  },
  {
   "cell_type": "code",
   "execution_count": 60,
   "id": "3f2b7edd",
   "metadata": {},
   "outputs": [
    {
     "name": "stdout",
     "output_type": "stream",
     "text": [
      "The F1-Score of the Logistic Regression model: 0.6183666984429615\n"
     ]
    }
   ],
   "source": [
    "# Finally the F1-Score can be used to describe the effectivness (harmonic mean) of the model by combining the\n",
    "# precision and recall scores\n",
    "from sklearn.metrics import f1_score\n",
    "print(f'The F1-Score of the Logistic Regression model: {f1_score(y_test, y_pred)}')"
   ]
  },
  {
   "cell_type": "markdown",
   "id": "0c807273",
   "metadata": {},
   "source": [
    "The evaluation scores show that the model does well on predicting instances with a target variable of 0 while performs rather poorly on predicting positive classes. This can be due to the class imbalance that was identified during the data exploration phase. "
   ]
  },
  {
   "cell_type": "code",
   "execution_count": 61,
   "id": "b83baec6",
   "metadata": {},
   "outputs": [],
   "source": [
    "# The Receiver Operating Characteristic (ROC) curve of the model\n",
    "# The ROC curve can be used to plot the TP rate of the model against the FP rate. \n",
    "from sklearn.metrics import roc_curve\n",
    "\n",
    "# Get the FP and TP rates for various threshold values\n",
    "fpr, tpr, thresholds = roc_curve(y_test, y_pred)"
   ]
  },
  {
   "cell_type": "code",
   "execution_count": 62,
   "id": "e80eb501",
   "metadata": {},
   "outputs": [
    {
     "data": {
      "image/png": "[encoded data removed]",
      "text/plain": [
       "<Figure size 864x576 with 1 Axes>"
      ]
     },
     "metadata": {},
     "output_type": "display_data"
    }
   ],
   "source": [
    "# Plot the ROC curve\n",
    "fig = plt.figure(figsize=(12, 8))\n",
    "plt.plot(fpr, tpr, linewidth=2, label='Logistic Regression')\n",
    "plt.plot([0, 1], [0, 1], 'k--', label='Random Classifier')\n",
    "plt.xlabel('False Positive Rate')\n",
    "plt.ylabel('True Positive Rate')\n",
    "plt.legend()\n",
    "plt.show()"
   ]
  },
  {
   "cell_type": "code",
   "execution_count": 63,
   "id": "22dbb6eb",
   "metadata": {},
   "outputs": [
    {
     "name": "stdout",
     "output_type": "stream",
     "text": [
      "AUC score for the model: 0.7867183629261773.\n"
     ]
    }
   ],
   "source": [
    "# Calculate the Area Under the Curve (AUC) score for the Logistic Regression classifier\n",
    "from sklearn.metrics import roc_auc_score\n",
    "\n",
    "print(f'AUC score for the model: {roc_auc_score(y_test, y_pred)}.')\n",
    "# The larger the area under the curve the better the predictive power of the classifier.\n",
    "# The model is underperforming since the corner of the curve is far away from the top left-corner, this also results\n",
    "# in an AUC score shown below"
   ]
  },
  {
   "cell_type": "markdown",
   "id": "2747e252",
   "metadata": {},
   "source": [
    "#### Change Dataset Partitioning to Imporve Logistic Regression Classifier"
   ]
  },
  {
   "cell_type": "markdown",
   "id": "7744453b",
   "metadata": {},
   "source": [
    "To try to achieve a higher model accuracy for the Logistic Regression Classifier, the model will be trained and evaluated on different training and validation sets, where sets ratio is more balanced to counter class imbalance in the original dataset "
   ]
  },
  {
   "cell_type": "code",
   "execution_count": 64,
   "id": "03a73dcd",
   "metadata": {},
   "outputs": [],
   "source": [
    "# Split the dataset into training (size=.6) and validation sets (size=.4)\n",
    "X_train2, X_test2, y_train2, y_test2 = train_test_split(X, y, train_size=0.6, random_state=42)"
   ]
  },
  {
   "cell_type": "code",
   "execution_count": 65,
   "id": "e018e19d",
   "metadata": {},
   "outputs": [
    {
     "data": {
      "text/html": [
       "<style>#sk-container-id-2 {color: black;background-color: white;}#sk-container-id-2 pre{padding: 0;}#sk-container-id-2 div.sk-toggleable {background-color: white;}#sk-container-id-2 label.sk-toggleable__label {cursor: pointer;display: block;width: 100%;margin-bottom: 0;padding: 0.3em;box-sizing: border-box;text-align: center;}#sk-container-id-2 label.sk-toggleable__label-arrow:before {content: \"▸\";float: left;margin-right: 0.25em;color: #696969;}#sk-container-id-2 label.sk-toggleable__label-arrow:hover:before {color: black;}#sk-container-id-2 div.sk-estimator:hover label.sk-toggleable__label-arrow:before {color: black;}#sk-container-id-2 div.sk-toggleable__content {max-height: 0;max-width: 0;overflow: hidden;text-align: left;background-color: #f0f8ff;}#sk-container-id-2 div.sk-toggleable__content pre {margin: 0.2em;color: black;border-radius: 0.25em;background-color: #f0f8ff;}#sk-container-id-2 input.sk-toggleable__control:checked~div.sk-toggleable__content {max-height: 200px;max-width: 100%;overflow: auto;}#sk-container-id-2 input.sk-toggleable__control:checked~label.sk-toggleable__label-arrow:before {content: \"▾\";}#sk-container-id-2 div.sk-estimator input.sk-toggleable__control:checked~label.sk-toggleable__label {background-color: #d4ebff;}#sk-container-id-2 div.sk-label input.sk-toggleable__control:checked~label.sk-toggleable__label {background-color: #d4ebff;}#sk-container-id-2 input.sk-hidden--visually {border: 0;clip: rect(1px 1px 1px 1px);clip: rect(1px, 1px, 1px, 1px);height: 1px;margin: -1px;overflow: hidden;padding: 0;position: absolute;width: 1px;}#sk-container-id-2 div.sk-estimator {font-family: monospace;background-color: #f0f8ff;border: 1px dotted black;border-radius: 0.25em;box-sizing: border-box;margin-bottom: 0.5em;}#sk-container-id-2 div.sk-estimator:hover {background-color: #d4ebff;}#sk-container-id-2 div.sk-parallel-item::after {content: \"\";width: 100%;border-bottom: 1px solid gray;flex-grow: 1;}#sk-container-id-2 div.sk-label:hover label.sk-toggleable__label {background-color: #d4ebff;}#sk-container-id-2 div.sk-serial::before {content: \"\";position: absolute;border-left: 1px solid gray;box-sizing: border-box;top: 0;bottom: 0;left: 50%;z-index: 0;}#sk-container-id-2 div.sk-serial {display: flex;flex-direction: column;align-items: center;background-color: white;padding-right: 0.2em;padding-left: 0.2em;position: relative;}#sk-container-id-2 div.sk-item {position: relative;z-index: 1;}#sk-container-id-2 div.sk-parallel {display: flex;align-items: stretch;justify-content: center;background-color: white;position: relative;}#sk-container-id-2 div.sk-item::before, #sk-container-id-2 div.sk-parallel-item::before {content: \"\";position: absolute;border-left: 1px solid gray;box-sizing: border-box;top: 0;bottom: 0;left: 50%;z-index: -1;}#sk-container-id-2 div.sk-parallel-item {display: flex;flex-direction: column;z-index: 1;position: relative;background-color: white;}#sk-container-id-2 div.sk-parallel-item:first-child::after {align-self: flex-end;width: 50%;}#sk-container-id-2 div.sk-parallel-item:last-child::after {align-self: flex-start;width: 50%;}#sk-container-id-2 div.sk-parallel-item:only-child::after {width: 0;}#sk-container-id-2 div.sk-dashed-wrapped {border: 1px dashed gray;margin: 0 0.4em 0.5em 0.4em;box-sizing: border-box;padding-bottom: 0.4em;background-color: white;}#sk-container-id-2 div.sk-label label {font-family: monospace;font-weight: bold;display: inline-block;line-height: 1.2em;}#sk-container-id-2 div.sk-label-container {text-align: center;}#sk-container-id-2 div.sk-container {/* jupyter's `normalize.less` sets `[hidden] { display: none; }` but bootstrap.min.css set `[hidden] { display: none !important; }` so we also need the `!important` here to be able to override the default hidden behavior on the sphinx rendered scikit-learn.org. See: https://github.com/scikit-learn/scikit-learn/issues/21755 */display: inline-block !important;position: relative;}#sk-container-id-2 div.sk-text-repr-fallback {display: none;}</style><div id=\"sk-container-id-2\" class=\"sk-top-container\"><div class=\"sk-text-repr-fallback\"><pre>LogisticRegression(class_weight=&#x27;balanced&#x27;)</pre><b>In a Jupyter environment, please rerun this cell to show the HTML representation or trust the notebook. <br />On GitHub, the HTML representation is unable to render, please try loading this page with nbviewer.org.</b></div><div class=\"sk-container\" hidden><div class=\"sk-item\"><div class=\"sk-estimator sk-toggleable\"><input class=\"sk-toggleable__control sk-hidden--visually\" id=\"sk-estimator-id-2\" type=\"checkbox\" checked><label for=\"sk-estimator-id-2\" class=\"sk-toggleable__label sk-toggleable__label-arrow\">LogisticRegression</label><div class=\"sk-toggleable__content\"><pre>LogisticRegression(class_weight=&#x27;balanced&#x27;)</pre></div></div></div></div></div>"
      ],
      "text/plain": [
       "LogisticRegression(class_weight='balanced')"
      ]
     },
     "execution_count": 65,
     "metadata": {},
     "output_type": "execute_result"
    }
   ],
   "source": [
    "# Build and train the new model\n",
    "lg_model2 = LogisticRegression(class_weight='balanced')\n",
    "lg_model2.fit(X_train2, y_train2)"
   ]
  },
  {
   "cell_type": "code",
   "execution_count": 66,
   "id": "ac89a49a",
   "metadata": {},
   "outputs": [],
   "source": [
    "y_pred = lg_model2.predict(X_test2)"
   ]
  },
  {
   "cell_type": "code",
   "execution_count": 67,
   "id": "983801db",
   "metadata": {},
   "outputs": [
    {
     "name": "stdout",
     "output_type": "stream",
     "text": [
      "AUC score for second model: 0.7884114169956534.\n"
     ]
    }
   ],
   "source": [
    "# Check the new model's predictive power with AUC score\n",
    "print(f'AUC score for second model: {roc_auc_score(y_test2, y_pred)}.')"
   ]
  },
  {
   "cell_type": "markdown",
   "id": "f606c2ce",
   "metadata": {},
   "source": [
    "Changing the ratio of size for training and validation sets have resulted in a slight increase in predictive power of the model "
   ]
  },
  {
   "cell_type": "markdown",
   "id": "804bba82",
   "metadata": {},
   "source": [
    "#### Oversampling to Overcome Class Imbalance"
   ]
  },
  {
   "cell_type": "markdown",
   "id": "fc36d22c",
   "metadata": {},
   "source": [
    "### <font color='green'>Create and Evaluate Different Classifiers</font>"
   ]
  },
  {
   "cell_type": "markdown",
   "id": "7bc0c5c6",
   "metadata": {},
   "source": [
    "To improve the solution for this binary classification, in this section the data used to train the Logistic Regression model will be used to train several different kind of models. Then, the accuracy along with the predictive power of each model will be evaluated to find to find the most powerful classifier.\n",
    "\n",
    "Models used:\n",
    "> * KNN\n",
    "> * DecisionTree\n",
    "> * RandomForest"
   ]
  },
  {
   "cell_type": "markdown",
   "id": "cc9a239a",
   "metadata": {},
   "source": [
    "#### Building and Training the Models"
   ]
  },
  {
   "cell_type": "code",
   "execution_count": 68,
   "id": "55c82848",
   "metadata": {},
   "outputs": [],
   "source": [
    "# Import relevant libraries\n",
    "from sklearn.neighbors import KNeighborsClassifier\n",
    "from sklearn.tree import DecisionTreeClassifier\n",
    "from sklearn.ensemble import RandomForestClassifier\n",
    "\n",
    "# Instantiate each classifier\n",
    "classifiers = [\n",
    "    KNeighborsClassifier(n_neighbors=3, weights='distance'),\n",
    "    DecisionTreeClassifier(random_state=42),\n",
    "    RandomForestClassifier(n_estimators=500, random_state=42)\n",
    "]"
   ]
  },
  {
   "cell_type": "code",
   "execution_count": 69,
   "id": "ff3f9d6c",
   "metadata": {},
   "outputs": [],
   "source": [
    "def train_and_predict(classifiers):\n",
    "    models_and_predictions = {}\n",
    "    for classifier in classifiers:\n",
    "        model = classifier.fit(X_train, y_train)\n",
    "        y_pred = model.predict(X_test)\n",
    "        models_and_predictions[model] = y_pred\n",
    "    return models_and_predictions\n",
    "\n",
    "models_and_predictions = train_and_predict(classifiers)"
   ]
  },
  {
   "cell_type": "markdown",
   "id": "803fd822",
   "metadata": {},
   "source": [
    "#### Evaluating Models' Performance"
   ]
  },
  {
   "cell_type": "code",
   "execution_count": 74,
   "id": "bbc636e1",
   "metadata": {},
   "outputs": [
    {
     "data": {
      "text/html": [
       "<div>\n",
       "<style scoped>\n",
       "    .dataframe tbody tr th:only-of-type {\n",
       "        vertical-align: middle;\n",
       "    }\n",
       "\n",
       "    .dataframe tbody tr th {\n",
       "        vertical-align: top;\n",
       "    }\n",
       "\n",
       "    .dataframe thead th {\n",
       "        text-align: right;\n",
       "    }\n",
       "</style>\n",
       "<table border=\"1\" class=\"dataframe\">\n",
       "  <thead>\n",
       "    <tr style=\"text-align: right;\">\n",
       "      <th></th>\n",
       "      <th>Accuracy Score</th>\n",
       "    </tr>\n",
       "    <tr>\n",
       "      <th>Classifier</th>\n",
       "      <th></th>\n",
       "    </tr>\n",
       "  </thead>\n",
       "  <tbody>\n",
       "    <tr>\n",
       "      <th>KNeighborsClassifier</th>\n",
       "      <td>0.884643</td>\n",
       "    </tr>\n",
       "    <tr>\n",
       "      <th>DecisionTreeClassifier</th>\n",
       "      <td>0.891366</td>\n",
       "    </tr>\n",
       "    <tr>\n",
       "      <th>RandomForestClassifier</th>\n",
       "      <td>0.935775</td>\n",
       "    </tr>\n",
       "  </tbody>\n",
       "</table>\n",
       "</div>"
      ],
      "text/plain": [
       "                        Accuracy Score\n",
       "Classifier                            \n",
       "KNeighborsClassifier          0.884643\n",
       "DecisionTreeClassifier        0.891366\n",
       "RandomForestClassifier        0.935775"
      ]
     },
     "execution_count": 74,
     "metadata": {},
     "output_type": "execute_result"
    }
   ],
   "source": [
    "# Check each model's accuracy score\n",
    "def check_accuracy(models_and_predictions):\n",
    "    accuracy = pd.DataFrame(columns=['Classifier', 'Accuracy Score'])\n",
    "    for model, pred in models_and_predictions.items():\n",
    "        accuracy = accuracy.append({\n",
    "            'Classifier': model.__class__.__name__,\n",
    "            'Accuracy Score': accuracy_score(y_test, pred)\n",
    "        }, ignore_index=True)\n",
    "    accuracy.set_index('Classifier', inplace=True)\n",
    "    return accuracy\n",
    "\n",
    "accuracy = check_accuracy(models_and_predictions)\n",
    "accuracy"
   ]
  },
  {
   "cell_type": "code",
   "execution_count": 71,
   "id": "95c834d8",
   "metadata": {},
   "outputs": [
    {
     "data": {
      "image/png": "[encoded data removed]",
      "text/plain": [
       "<Figure size 864x576 with 1 Axes>"
      ]
     },
     "metadata": {},
     "output_type": "display_data"
    }
   ],
   "source": [
    "# Visualize accuracy score for each classifier\n",
    "fig = plt.figure(figsize=(12, 8))\n",
    "plt.bar(accuracy.index, accuracy['Accuracy Score'], color=['Red', 'Orange', 'Green'])\n",
    "plt.show()"
   ]
  },
  {
   "cell_type": "code",
   "execution_count": 72,
   "id": "5c9a9654",
   "metadata": {},
   "outputs": [
    {
     "data": {
      "text/html": [
       "<div>\n",
       "<style scoped>\n",
       "    .dataframe tbody tr th:only-of-type {\n",
       "        vertical-align: middle;\n",
       "    }\n",
       "\n",
       "    .dataframe tbody tr th {\n",
       "        vertical-align: top;\n",
       "    }\n",
       "\n",
       "    .dataframe thead th {\n",
       "        text-align: right;\n",
       "    }\n",
       "</style>\n",
       "<table border=\"1\" class=\"dataframe\">\n",
       "  <thead>\n",
       "    <tr style=\"text-align: right;\">\n",
       "      <th></th>\n",
       "      <th>fpr</th>\n",
       "      <th>tpr</th>\n",
       "      <th>auc</th>\n",
       "    </tr>\n",
       "    <tr>\n",
       "      <th>Classifier</th>\n",
       "      <th></th>\n",
       "      <th></th>\n",
       "      <th></th>\n",
       "    </tr>\n",
       "  </thead>\n",
       "  <tbody>\n",
       "    <tr>\n",
       "      <th>KNeighborsClassifier</th>\n",
       "      <td>[0.0, 0.03874915023793338, 1.0]</td>\n",
       "      <td>[0.0, 0.6117836965294592, 1.0]</td>\n",
       "      <td>0.786517</td>\n",
       "    </tr>\n",
       "    <tr>\n",
       "      <th>DecisionTreeClassifier</th>\n",
       "      <td>[0.0, 0.07727169725810107, 1.0]</td>\n",
       "      <td>[0.0, 0.7796610169491526, 1.0]</td>\n",
       "      <td>0.851195</td>\n",
       "    </tr>\n",
       "    <tr>\n",
       "      <th>RandomForestClassifier</th>\n",
       "      <td>[0.0, 0.005891683661907999, 1.0]</td>\n",
       "      <td>[0.0, 0.7280064568200162, 1.0]</td>\n",
       "      <td>0.861057</td>\n",
       "    </tr>\n",
       "  </tbody>\n",
       "</table>\n",
       "</div>"
      ],
      "text/plain": [
       "                                                     fpr  \\\n",
       "Classifier                                                 \n",
       "KNeighborsClassifier     [0.0, 0.03874915023793338, 1.0]   \n",
       "DecisionTreeClassifier   [0.0, 0.07727169725810107, 1.0]   \n",
       "RandomForestClassifier  [0.0, 0.005891683661907999, 1.0]   \n",
       "\n",
       "                                                   tpr       auc  \n",
       "Classifier                                                        \n",
       "KNeighborsClassifier    [0.0, 0.6117836965294592, 1.0]  0.786517  \n",
       "DecisionTreeClassifier  [0.0, 0.7796610169491526, 1.0]  0.851195  \n",
       "RandomForestClassifier  [0.0, 0.7280064568200162, 1.0]  0.861057  "
      ]
     },
     "execution_count": 72,
     "metadata": {},
     "output_type": "execute_result"
    }
   ],
   "source": [
    "# Get FP and TP rates as well as AUC score for each model\n",
    "def get_roc_results(models_and_predictions):\n",
    "    roc_results = pd.DataFrame(columns=['Classifier', 'fpr', 'tpr', 'auc'])\n",
    "    for model, pred in models_and_predictions.items():\n",
    "        fpr, tpr, thresholds = roc_curve(y_test, pred)\n",
    "        auc = roc_auc_score(y_test, pred)\n",
    "        roc_results = roc_results.append({\n",
    "            'Classifier': model.__class__.__name__,\n",
    "            'fpr': fpr,\n",
    "            'tpr': tpr,\n",
    "            'auc': auc\n",
    "        }, ignore_index=True)\n",
    "    roc_results.set_index('Classifier', inplace=True)\n",
    "    return roc_results\n",
    "\n",
    "roc_results = get_roc_results(models_and_predictions)\n",
    "roc_results"
   ]
  },
  {
   "cell_type": "code",
   "execution_count": 73,
   "id": "46815369",
   "metadata": {},
   "outputs": [
    {
     "data": {
      "image/png": "[encoded data removed]",
      "text/plain": [
       "<Figure size 864x576 with 1 Axes>"
      ]
     },
     "metadata": {},
     "output_type": "display_data"
    }
   ],
   "source": [
    "# Visualize the predictive power of each model on a ROC curve\n",
    "def plot_roc_curve(roc_results):\n",
    "    fig = plt.figure(figsize=(12, 8))\n",
    "    for i in roc_results.index:\n",
    "        auc = roc_results.loc[i]['auc']\n",
    "        plt.plot(roc_results.loc[i]['fpr'], roc_results.loc[i]['tpr'],\n",
    "                 label=f'{i} - AUC={round(auc, 2)}')\n",
    "        \n",
    "        # Plot the random classifier\n",
    "    plt.plot([0, 1], [0, 1], 'k--', label='Random Classifier')\n",
    "        \n",
    "        # Set plot variables\n",
    "    plt.xlabel('False Positive Rate')\n",
    "    plt.ylabel('True Positive Rate')\n",
    "    plt.legend()\n",
    "    plt.show()\n",
    "\n",
    "plot_roc_curve(roc_results)"
   ]
  },
  {
   "cell_type": "markdown",
   "id": "cfd4e77d",
   "metadata": {},
   "source": [
    "#### Create a VotingClassifier for Highest Predictive Power"
   ]
  }
 ],
 "metadata": {
  "kernelspec": {
   "display_name": "Python 3 (ipykernel)",
   "language": "python",
   "name": "python3"
  },
  "language_info": {
   "codemirror_mode": {
    "name": "ipython",
    "version": 3
   },
   "file_extension": ".py",
   "mimetype": "text/x-python",
   "name": "python",
   "nbconvert_exporter": "python",
   "pygments_lexer": "ipython3",
   "version": "3.8.10"
  }
 },
 "nbformat": 4,
 "nbformat_minor": 5
}
