{
 "cells": [
  {
   "cell_type": "markdown",
   "id": "6192a476",
   "metadata": {},
   "source": [
    "# Credit Risk Analysis"
   ]
  },
  {
   "cell_type": "markdown",
   "id": "1cd5c23e",
   "metadata": {},
   "source": [
    "## 1 - Research & Data Exploration"
   ]
  },
  {
   "cell_type": "markdown",
   "id": "2232b487",
   "metadata": {},
   "source": [
    "## Overview"
   ]
  },
  {
   "cell_type": "markdown",
   "id": "afa5c65e",
   "metadata": {},
   "source": [
    "***Objective***: The data used in this project is related to simulating credit bureau data. The aim of the project is to build and evaluate a classification model to predict whether an individual will default on their loan (y). In other words, whether or not they will make their re-payments on time. "
   ]
  },
  {
   "cell_type": "markdown",
   "id": "68111852",
   "metadata": {},
   "source": [
    "## Dataset Source\n",
    "\n",
    "_The Dataset used for this analysis is obtained from the Kaggle (https://www.kaggle.com/) website. Details about the dataset can be found here:_***https://www.kaggle.com/datasets/laotse/credit-risk-dataset/code***\n",
    "\n",
    "Dataset was accessed on: **31/10/2022**\n",
    "\n",
    "**Why was the dataset choosen?**"
   ]
  },
  {
   "cell_type": "markdown",
   "id": "677946be",
   "metadata": {},
   "source": [
    "## Exploratory Data Analysis"
   ]
  },
  {
   "cell_type": "markdown",
   "id": "9756112b",
   "metadata": {},
   "source": [
    "### <font color='green'>Load and Explore the Data</font>"
   ]
  },
  {
   "cell_type": "code",
   "execution_count": 1,
   "id": "1d64b595",
   "metadata": {},
   "outputs": [],
   "source": [
    "# Import relevant libraries\n",
    "import pandas as pd\n",
    "import matplotlib.pyplot as plt\n",
    "import seaborn as sns"
   ]
  },
  {
   "cell_type": "code",
   "execution_count": 2,
   "id": "09cd21cc",
   "metadata": {},
   "outputs": [],
   "source": [
    "# Load the dataset into a variable called credit\n",
    "credit = pd.read_csv('credit_risk_dataset.csv')"
   ]
  },
  {
   "cell_type": "code",
   "execution_count": 3,
   "id": "5cef2cd9",
   "metadata": {},
   "outputs": [
    {
     "name": "stdout",
     "output_type": "stream",
     "text": [
      "The dataset contains: 32581 observations and 12 features.\n"
     ]
    }
   ],
   "source": [
    "# Print the number of rows and columns in the DataFrame\n",
    "print(f'The dataset contains: {credit.shape[0]} observations and {credit.shape[1]} features.')"
   ]
  },
  {
   "cell_type": "code",
   "execution_count": 4,
   "id": "70429a2d",
   "metadata": {
    "scrolled": true
   },
   "outputs": [
    {
     "data": {
      "text/plain": [
       "Index(['person_age', 'person_income', 'person_home_ownership',\n",
       "       'person_emp_length', 'loan_intent', 'loan_grade', 'loan_amnt',\n",
       "       'loan_int_rate', 'loan_status', 'loan_percent_income',\n",
       "       'cb_person_default_on_file', 'cb_person_cred_hist_length'],\n",
       "      dtype='object')"
      ]
     },
     "execution_count": 4,
     "metadata": {},
     "output_type": "execute_result"
    }
   ],
   "source": [
    "# Save the features into a variable called 'columns'\n",
    "columns = credit.columns\n",
    "# Inspect features\n",
    "columns"
   ]
  },
  {
   "cell_type": "code",
   "execution_count": 5,
   "id": "29267487",
   "metadata": {},
   "outputs": [
    {
     "name": "stdout",
     "output_type": "stream",
     "text": [
      "person_age \t 58\n",
      "person_income \t 4295\n",
      "person_home_ownership \t 4\n",
      "person_emp_length \t 37\n",
      "loan_intent \t 6\n",
      "loan_grade \t 7\n",
      "loan_amnt \t 753\n",
      "loan_int_rate \t 349\n",
      "loan_status \t 2\n",
      "loan_percent_income \t 77\n",
      "cb_person_default_on_file \t 2\n",
      "cb_person_cred_hist_length \t 29\n"
     ]
    }
   ],
   "source": [
    "# Number of unique values present in each column\n",
    "for i in columns:\n",
    "    print(i, '\\t', len(credit[i].unique()))"
   ]
  },
  {
   "cell_type": "code",
   "execution_count": 6,
   "id": "6e0c790c",
   "metadata": {},
   "outputs": [
    {
     "data": {
      "text/html": [
       "<div>\n",
       "<style scoped>\n",
       "    .dataframe tbody tr th:only-of-type {\n",
       "        vertical-align: middle;\n",
       "    }\n",
       "\n",
       "    .dataframe tbody tr th {\n",
       "        vertical-align: top;\n",
       "    }\n",
       "\n",
       "    .dataframe thead th {\n",
       "        text-align: right;\n",
       "    }\n",
       "</style>\n",
       "<table border=\"1\" class=\"dataframe\">\n",
       "  <thead>\n",
       "    <tr style=\"text-align: right;\">\n",
       "      <th></th>\n",
       "      <th>person_age</th>\n",
       "      <th>person_income</th>\n",
       "      <th>person_home_ownership</th>\n",
       "      <th>person_emp_length</th>\n",
       "      <th>loan_intent</th>\n",
       "      <th>loan_grade</th>\n",
       "      <th>loan_amnt</th>\n",
       "      <th>loan_int_rate</th>\n",
       "      <th>loan_status</th>\n",
       "      <th>loan_percent_income</th>\n",
       "      <th>cb_person_default_on_file</th>\n",
       "      <th>cb_person_cred_hist_length</th>\n",
       "    </tr>\n",
       "  </thead>\n",
       "  <tbody>\n",
       "    <tr>\n",
       "      <th>0</th>\n",
       "      <td>22</td>\n",
       "      <td>59000</td>\n",
       "      <td>RENT</td>\n",
       "      <td>123.0</td>\n",
       "      <td>PERSONAL</td>\n",
       "      <td>D</td>\n",
       "      <td>35000</td>\n",
       "      <td>16.02</td>\n",
       "      <td>1</td>\n",
       "      <td>0.59</td>\n",
       "      <td>Y</td>\n",
       "      <td>3</td>\n",
       "    </tr>\n",
       "    <tr>\n",
       "      <th>1</th>\n",
       "      <td>21</td>\n",
       "      <td>9600</td>\n",
       "      <td>OWN</td>\n",
       "      <td>5.0</td>\n",
       "      <td>EDUCATION</td>\n",
       "      <td>B</td>\n",
       "      <td>1000</td>\n",
       "      <td>11.14</td>\n",
       "      <td>0</td>\n",
       "      <td>0.10</td>\n",
       "      <td>N</td>\n",
       "      <td>2</td>\n",
       "    </tr>\n",
       "    <tr>\n",
       "      <th>2</th>\n",
       "      <td>25</td>\n",
       "      <td>9600</td>\n",
       "      <td>MORTGAGE</td>\n",
       "      <td>1.0</td>\n",
       "      <td>MEDICAL</td>\n",
       "      <td>C</td>\n",
       "      <td>5500</td>\n",
       "      <td>12.87</td>\n",
       "      <td>1</td>\n",
       "      <td>0.57</td>\n",
       "      <td>N</td>\n",
       "      <td>3</td>\n",
       "    </tr>\n",
       "    <tr>\n",
       "      <th>3</th>\n",
       "      <td>23</td>\n",
       "      <td>65500</td>\n",
       "      <td>RENT</td>\n",
       "      <td>4.0</td>\n",
       "      <td>MEDICAL</td>\n",
       "      <td>C</td>\n",
       "      <td>35000</td>\n",
       "      <td>15.23</td>\n",
       "      <td>1</td>\n",
       "      <td>0.53</td>\n",
       "      <td>N</td>\n",
       "      <td>2</td>\n",
       "    </tr>\n",
       "    <tr>\n",
       "      <th>4</th>\n",
       "      <td>24</td>\n",
       "      <td>54400</td>\n",
       "      <td>RENT</td>\n",
       "      <td>8.0</td>\n",
       "      <td>MEDICAL</td>\n",
       "      <td>C</td>\n",
       "      <td>35000</td>\n",
       "      <td>14.27</td>\n",
       "      <td>1</td>\n",
       "      <td>0.55</td>\n",
       "      <td>Y</td>\n",
       "      <td>4</td>\n",
       "    </tr>\n",
       "  </tbody>\n",
       "</table>\n",
       "</div>"
      ],
      "text/plain": [
       "   person_age  person_income person_home_ownership  person_emp_length  \\\n",
       "0          22          59000                  RENT              123.0   \n",
       "1          21           9600                   OWN                5.0   \n",
       "2          25           9600              MORTGAGE                1.0   \n",
       "3          23          65500                  RENT                4.0   \n",
       "4          24          54400                  RENT                8.0   \n",
       "\n",
       "  loan_intent loan_grade  loan_amnt  loan_int_rate  loan_status  \\\n",
       "0    PERSONAL          D      35000          16.02            1   \n",
       "1   EDUCATION          B       1000          11.14            0   \n",
       "2     MEDICAL          C       5500          12.87            1   \n",
       "3     MEDICAL          C      35000          15.23            1   \n",
       "4     MEDICAL          C      35000          14.27            1   \n",
       "\n",
       "   loan_percent_income cb_person_default_on_file  cb_person_cred_hist_length  \n",
       "0                 0.59                         Y                           3  \n",
       "1                 0.10                         N                           2  \n",
       "2                 0.57                         N                           3  \n",
       "3                 0.53                         N                           2  \n",
       "4                 0.55                         Y                           4  "
      ]
     },
     "execution_count": 6,
     "metadata": {},
     "output_type": "execute_result"
    }
   ],
   "source": [
    "# Inspect the first five rows of the dataset\n",
    "credit.head()"
   ]
  },
  {
   "cell_type": "code",
   "execution_count": 7,
   "id": "5a1e01c0",
   "metadata": {},
   "outputs": [
    {
     "name": "stdout",
     "output_type": "stream",
     "text": [
      "<class 'pandas.core.frame.DataFrame'>\n",
      "RangeIndex: 32581 entries, 0 to 32580\n",
      "Data columns (total 12 columns):\n",
      " #   Column                      Non-Null Count  Dtype  \n",
      "---  ------                      --------------  -----  \n",
      " 0   person_age                  32581 non-null  int64  \n",
      " 1   person_income               32581 non-null  int64  \n",
      " 2   person_home_ownership       32581 non-null  object \n",
      " 3   person_emp_length           31686 non-null  float64\n",
      " 4   loan_intent                 32581 non-null  object \n",
      " 5   loan_grade                  32581 non-null  object \n",
      " 6   loan_amnt                   32581 non-null  int64  \n",
      " 7   loan_int_rate               29465 non-null  float64\n",
      " 8   loan_status                 32581 non-null  int64  \n",
      " 9   loan_percent_income         32581 non-null  float64\n",
      " 10  cb_person_default_on_file   32581 non-null  object \n",
      " 11  cb_person_cred_hist_length  32581 non-null  int64  \n",
      "dtypes: float64(3), int64(5), object(4)\n",
      "memory usage: 3.0+ MB\n"
     ]
    }
   ],
   "source": [
    "# Inspect data types and check for missing values in the dataset\n",
    "credit.info()"
   ]
  },
  {
   "cell_type": "markdown",
   "id": "aa49bfd6",
   "metadata": {},
   "source": [
    "<div class='alert alert-block alert-info'><u>Note:</u> Data types suggest a mixture of numeric and categorical features are present in the dataset!</div>"
   ]
  },
  {
   "cell_type": "markdown",
   "id": "090a050e",
   "metadata": {},
   "source": [
    "<div class='alert alert-block alert-info'><u>Note:</u> Varying column lengths suggest missing data is present in some of the columns!</div>"
   ]
  },
  {
   "cell_type": "code",
   "execution_count": 8,
   "id": "eeb91418",
   "metadata": {},
   "outputs": [
    {
     "data": {
      "text/plain": [
       "loan_int_rate                 9.56\n",
       "person_emp_length             2.75\n",
       "person_age                    0.00\n",
       "person_income                 0.00\n",
       "person_home_ownership         0.00\n",
       "loan_intent                   0.00\n",
       "loan_grade                    0.00\n",
       "loan_amnt                     0.00\n",
       "loan_status                   0.00\n",
       "loan_percent_income           0.00\n",
       "cb_person_default_on_file     0.00\n",
       "cb_person_cred_hist_length    0.00\n",
       "dtype: float64"
      ]
     },
     "execution_count": 8,
     "metadata": {},
     "output_type": "execute_result"
    }
   ],
   "source": [
    "# Ratio of missing values in the data set\n",
    "# Save the % of missing values for each feature in a Pandas Series in a descending order\n",
    "credit_missing = pd.Series(data=[round(credit[i].isnull().sum() / len(credit) * 100, 2) for i in columns], index=columns)\n",
    "credit_missing.sort_values(ascending=False)"
   ]
  },
  {
   "cell_type": "markdown",
   "id": "9f581b8a",
   "metadata": {},
   "source": [
    "### <font color='green'>Class Distribution</font>\n",
    "\n",
    "The target feature in the dataset that we are trying to predict: **loan_status**\n",
    "The status of the loan is represented as a binary variable where:\n",
    "> * **0** (False) &rarr; **Non-Default** (Loan re-payment successful)\n",
    "> * **1** (True) &rarr; **Default** (Loan re-payment failed)"
   ]
  },
  {
   "cell_type": "code",
   "execution_count": 9,
   "id": "5fc1c694",
   "metadata": {},
   "outputs": [],
   "source": [
    "# Create a copy of the dataset for visualization\n",
    "credit_copy = credit.copy()\n",
    "\n",
    "# Change the values of the target variable to allow easier interpretation\n",
    "credit_copy['loan_status'] = credit_copy['loan_status'].apply(lambda x: 'Default' if x == 1 else 'Non-Default')"
   ]
  },
  {
   "cell_type": "code",
   "execution_count": 10,
   "id": "092cfff6",
   "metadata": {},
   "outputs": [
    {
     "data": {
      "text/plain": [
       "count           32581\n",
       "unique              2\n",
       "top       Non-Default\n",
       "freq            25473\n",
       "Name: loan_status, dtype: object"
      ]
     },
     "execution_count": 10,
     "metadata": {},
     "output_type": "execute_result"
    }
   ],
   "source": [
    "credit_copy['loan_status'].describe()"
   ]
  },
  {
   "cell_type": "code",
   "execution_count": 11,
   "id": "16f3505b",
   "metadata": {},
   "outputs": [
    {
     "data": {
      "text/plain": [
       "Non-Default    25473\n",
       "Default         7108\n",
       "Name: loan_status, dtype: int64"
      ]
     },
     "execution_count": 11,
     "metadata": {},
     "output_type": "execute_result"
    }
   ],
   "source": [
    "# True (1) -> Default - Loan re-payment Failed, False (0) -> Non-Default - Loan re-payment Successful\n",
    "credit_copy['loan_status'].value_counts()"
   ]
  },
  {
   "cell_type": "code",
   "execution_count": 12,
   "id": "6ce4d5d4",
   "metadata": {},
   "outputs": [
    {
     "data": {
      "image/png": "[encoded data removed]",
      "text/plain": [
       "<Figure size 432x288 with 1 Axes>"
      ]
     },
     "metadata": {},
     "output_type": "display_data"
    }
   ],
   "source": [
    "# Visualize class distribution proportions on a pie chart\n",
    "plt.pie(credit_copy['loan_status'].value_counts(), autopct=lambda x: f'{round(x, 2)}%')\n",
    "plt.title('Proportion of target classes')\n",
    "plt.legend(['Non Default (0)', 'Default (1)'], \n",
    "           bbox_to_anchor=(1.5, 1), loc='upper right')\n",
    "plt.show()"
   ]
  },
  {
   "cell_type": "markdown",
   "id": "442e77f0",
   "metadata": {},
   "source": [
    "<div class='alert alert-block alert-info'> <u>Note:</u> The proportion for target variable classes suggests a mildly imbalanced dataset!</div>"
   ]
  },
  {
   "cell_type": "code",
   "execution_count": 13,
   "id": "fa51b78e",
   "metadata": {},
   "outputs": [
    {
     "data": {
      "image/png": "[encoded data removed]",
      "text/plain": [
       "<Figure size 432x288 with 1 Axes>"
      ]
     },
     "metadata": {},
     "output_type": "display_data"
    }
   ],
   "source": [
    "# Visualize total number for each class on a count plot\n",
    "sns.set_theme(style='whitegrid')\n",
    "sns.countplot(credit_copy, x=credit_copy['loan_status'], order=['Non-Default', 'Default'])\n",
    "plt.title('Total of target classes')\n",
    "plt.xlabel('Loan Status')\n",
    "plt.ylabel('Total')\n",
    "plt.show()"
   ]
  },
  {
   "cell_type": "code",
   "execution_count": 14,
   "id": "f16a40db",
   "metadata": {},
   "outputs": [
    {
     "data": {
      "text/html": [
       "<div>\n",
       "<style scoped>\n",
       "    .dataframe tbody tr th:only-of-type {\n",
       "        vertical-align: middle;\n",
       "    }\n",
       "\n",
       "    .dataframe tbody tr th {\n",
       "        vertical-align: top;\n",
       "    }\n",
       "\n",
       "    .dataframe thead th {\n",
       "        text-align: right;\n",
       "    }\n",
       "</style>\n",
       "<table border=\"1\" class=\"dataframe\">\n",
       "  <thead>\n",
       "    <tr style=\"text-align: right;\">\n",
       "      <th></th>\n",
       "      <th>person_age</th>\n",
       "      <th>person_income</th>\n",
       "      <th>person_emp_length</th>\n",
       "      <th>loan_amnt</th>\n",
       "      <th>loan_int_rate</th>\n",
       "      <th>loan_percent_income</th>\n",
       "      <th>cb_person_cred_hist_length</th>\n",
       "    </tr>\n",
       "    <tr>\n",
       "      <th>loan_status</th>\n",
       "      <th></th>\n",
       "      <th></th>\n",
       "      <th></th>\n",
       "      <th></th>\n",
       "      <th></th>\n",
       "      <th></th>\n",
       "      <th></th>\n",
       "    </tr>\n",
       "  </thead>\n",
       "  <tbody>\n",
       "    <tr>\n",
       "      <th>0</th>\n",
       "      <td>27.807129</td>\n",
       "      <td>70804.361559</td>\n",
       "      <td>4.968745</td>\n",
       "      <td>9237.464178</td>\n",
       "      <td>10.435999</td>\n",
       "      <td>0.148805</td>\n",
       "      <td>5.837475</td>\n",
       "    </tr>\n",
       "    <tr>\n",
       "      <th>1</th>\n",
       "      <td>27.474676</td>\n",
       "      <td>49125.652223</td>\n",
       "      <td>4.137562</td>\n",
       "      <td>10850.502954</td>\n",
       "      <td>13.060207</td>\n",
       "      <td>0.246889</td>\n",
       "      <td>5.685003</td>\n",
       "    </tr>\n",
       "  </tbody>\n",
       "</table>\n",
       "</div>"
      ],
      "text/plain": [
       "             person_age  person_income  person_emp_length     loan_amnt  \\\n",
       "loan_status                                                               \n",
       "0             27.807129   70804.361559           4.968745   9237.464178   \n",
       "1             27.474676   49125.652223           4.137562  10850.502954   \n",
       "\n",
       "             loan_int_rate  loan_percent_income  cb_person_cred_hist_length  \n",
       "loan_status                                                                  \n",
       "0                10.435999             0.148805                    5.837475  \n",
       "1                13.060207             0.246889                    5.685003  "
      ]
     },
     "execution_count": 14,
     "metadata": {},
     "output_type": "execute_result"
    }
   ],
   "source": [
    "credit.groupby('loan_status').mean()"
   ]
  },
  {
   "cell_type": "markdown",
   "id": "16b216d2",
   "metadata": {},
   "source": [
    "_People who have a lower income (person_income), their loan amount would take a higer proportion of said income (loan_percent_income) are more likely to fail their loan re-payments_"
   ]
  },
  {
   "cell_type": "code",
   "execution_count": 15,
   "id": "bd523369",
   "metadata": {},
   "outputs": [
    {
     "data": {
      "image/png": "[encoded data removed]",
      "text/plain": [
       "<Figure size 432x288 with 1 Axes>"
      ]
     },
     "metadata": {},
     "output_type": "display_data"
    }
   ],
   "source": [
    "# Visualize the distribution of target classes based on the 'loan_percent_income' variable\n",
    "sns.boxplot(credit_copy, x=credit_copy['loan_status'], y=credit_copy['loan_percent_income'])\n",
    "plt.xlabel('Loan Status')\n",
    "plt.ylabel('Loan % Income')\n",
    "plt.show()"
   ]
  },
  {
   "cell_type": "markdown",
   "id": "913a99a9",
   "metadata": {},
   "source": [
    "### <font color='green'>Quantitative Variables</font>"
   ]
  },
  {
   "cell_type": "code",
   "execution_count": 16,
   "id": "0b2f640e",
   "metadata": {},
   "outputs": [
    {
     "data": {
      "text/plain": [
       "Index(['person_age', 'person_income', 'person_emp_length', 'loan_amnt',\n",
       "       'loan_int_rate', 'loan_status', 'loan_percent_income',\n",
       "       'cb_person_cred_hist_length'],\n",
       "      dtype='object')"
      ]
     },
     "execution_count": 16,
     "metadata": {},
     "output_type": "execute_result"
    }
   ],
   "source": [
    "# Select quantitative features only and save the column names into a variable \n",
    "credit_num_cols = credit.select_dtypes(include=['number']).columns\n",
    "credit_num_cols"
   ]
  },
  {
   "cell_type": "code",
   "execution_count": 17,
   "id": "ac085bf8",
   "metadata": {},
   "outputs": [
    {
     "data": {
      "text/plain": [
       "66.7"
      ]
     },
     "execution_count": 17,
     "metadata": {},
     "output_type": "execute_result"
    }
   ],
   "source": [
    "# Check the proportion of quantitative features in the dataset\n",
    "round(len(credit_num_cols) / len(credit.columns) * 100, 1)"
   ]
  },
  {
   "cell_type": "code",
   "execution_count": 18,
   "id": "69fe2e59",
   "metadata": {},
   "outputs": [
    {
     "data": {
      "text/html": [
       "<div>\n",
       "<style scoped>\n",
       "    .dataframe tbody tr th:only-of-type {\n",
       "        vertical-align: middle;\n",
       "    }\n",
       "\n",
       "    .dataframe tbody tr th {\n",
       "        vertical-align: top;\n",
       "    }\n",
       "\n",
       "    .dataframe thead th {\n",
       "        text-align: right;\n",
       "    }\n",
       "</style>\n",
       "<table border=\"1\" class=\"dataframe\">\n",
       "  <thead>\n",
       "    <tr style=\"text-align: right;\">\n",
       "      <th></th>\n",
       "      <th>person_age</th>\n",
       "      <th>person_income</th>\n",
       "      <th>person_emp_length</th>\n",
       "      <th>loan_amnt</th>\n",
       "      <th>loan_int_rate</th>\n",
       "      <th>loan_status</th>\n",
       "      <th>loan_percent_income</th>\n",
       "      <th>cb_person_cred_hist_length</th>\n",
       "    </tr>\n",
       "  </thead>\n",
       "  <tbody>\n",
       "    <tr>\n",
       "      <th>count</th>\n",
       "      <td>32581.000000</td>\n",
       "      <td>3.258100e+04</td>\n",
       "      <td>31686.000000</td>\n",
       "      <td>32581.000000</td>\n",
       "      <td>29465.000000</td>\n",
       "      <td>32581.000000</td>\n",
       "      <td>32581.000000</td>\n",
       "      <td>32581.000000</td>\n",
       "    </tr>\n",
       "    <tr>\n",
       "      <th>mean</th>\n",
       "      <td>27.734600</td>\n",
       "      <td>6.607485e+04</td>\n",
       "      <td>4.789686</td>\n",
       "      <td>9589.371106</td>\n",
       "      <td>11.011695</td>\n",
       "      <td>0.218164</td>\n",
       "      <td>0.170203</td>\n",
       "      <td>5.804211</td>\n",
       "    </tr>\n",
       "    <tr>\n",
       "      <th>std</th>\n",
       "      <td>6.348078</td>\n",
       "      <td>6.198312e+04</td>\n",
       "      <td>4.142630</td>\n",
       "      <td>6322.086646</td>\n",
       "      <td>3.240459</td>\n",
       "      <td>0.413006</td>\n",
       "      <td>0.106782</td>\n",
       "      <td>4.055001</td>\n",
       "    </tr>\n",
       "    <tr>\n",
       "      <th>min</th>\n",
       "      <td>20.000000</td>\n",
       "      <td>4.000000e+03</td>\n",
       "      <td>0.000000</td>\n",
       "      <td>500.000000</td>\n",
       "      <td>5.420000</td>\n",
       "      <td>0.000000</td>\n",
       "      <td>0.000000</td>\n",
       "      <td>2.000000</td>\n",
       "    </tr>\n",
       "    <tr>\n",
       "      <th>25%</th>\n",
       "      <td>23.000000</td>\n",
       "      <td>3.850000e+04</td>\n",
       "      <td>2.000000</td>\n",
       "      <td>5000.000000</td>\n",
       "      <td>7.900000</td>\n",
       "      <td>0.000000</td>\n",
       "      <td>0.090000</td>\n",
       "      <td>3.000000</td>\n",
       "    </tr>\n",
       "    <tr>\n",
       "      <th>50%</th>\n",
       "      <td>26.000000</td>\n",
       "      <td>5.500000e+04</td>\n",
       "      <td>4.000000</td>\n",
       "      <td>8000.000000</td>\n",
       "      <td>10.990000</td>\n",
       "      <td>0.000000</td>\n",
       "      <td>0.150000</td>\n",
       "      <td>4.000000</td>\n",
       "    </tr>\n",
       "    <tr>\n",
       "      <th>75%</th>\n",
       "      <td>30.000000</td>\n",
       "      <td>7.920000e+04</td>\n",
       "      <td>7.000000</td>\n",
       "      <td>12200.000000</td>\n",
       "      <td>13.470000</td>\n",
       "      <td>0.000000</td>\n",
       "      <td>0.230000</td>\n",
       "      <td>8.000000</td>\n",
       "    </tr>\n",
       "    <tr>\n",
       "      <th>max</th>\n",
       "      <td>144.000000</td>\n",
       "      <td>6.000000e+06</td>\n",
       "      <td>123.000000</td>\n",
       "      <td>35000.000000</td>\n",
       "      <td>23.220000</td>\n",
       "      <td>1.000000</td>\n",
       "      <td>0.830000</td>\n",
       "      <td>30.000000</td>\n",
       "    </tr>\n",
       "  </tbody>\n",
       "</table>\n",
       "</div>"
      ],
      "text/plain": [
       "         person_age  person_income  person_emp_length     loan_amnt  \\\n",
       "count  32581.000000   3.258100e+04       31686.000000  32581.000000   \n",
       "mean      27.734600   6.607485e+04           4.789686   9589.371106   \n",
       "std        6.348078   6.198312e+04           4.142630   6322.086646   \n",
       "min       20.000000   4.000000e+03           0.000000    500.000000   \n",
       "25%       23.000000   3.850000e+04           2.000000   5000.000000   \n",
       "50%       26.000000   5.500000e+04           4.000000   8000.000000   \n",
       "75%       30.000000   7.920000e+04           7.000000  12200.000000   \n",
       "max      144.000000   6.000000e+06         123.000000  35000.000000   \n",
       "\n",
       "       loan_int_rate   loan_status  loan_percent_income  \\\n",
       "count   29465.000000  32581.000000         32581.000000   \n",
       "mean       11.011695      0.218164             0.170203   \n",
       "std         3.240459      0.413006             0.106782   \n",
       "min         5.420000      0.000000             0.000000   \n",
       "25%         7.900000      0.000000             0.090000   \n",
       "50%        10.990000      0.000000             0.150000   \n",
       "75%        13.470000      0.000000             0.230000   \n",
       "max        23.220000      1.000000             0.830000   \n",
       "\n",
       "       cb_person_cred_hist_length  \n",
       "count                32581.000000  \n",
       "mean                     5.804211  \n",
       "std                      4.055001  \n",
       "min                      2.000000  \n",
       "25%                      3.000000  \n",
       "50%                      4.000000  \n",
       "75%                      8.000000  \n",
       "max                     30.000000  "
      ]
     },
     "execution_count": 18,
     "metadata": {},
     "output_type": "execute_result"
    }
   ],
   "source": [
    "# Display summary statistics for the Quantitative variables in the DataFrame\n",
    "credit.describe()"
   ]
  },
  {
   "cell_type": "markdown",
   "id": "f648d4a0",
   "metadata": {},
   "source": [
    "<div class='alert alert-block alert-info'> <u>Note:</u> Potential outliers for the age, income and employment length columns, which will be further investigated and dealt with if necessary at the pre-processing stage</div>"
   ]
  },
  {
   "cell_type": "code",
   "execution_count": 19,
   "id": "c6eb2e88",
   "metadata": {},
   "outputs": [
    {
     "data": {
      "image/png": "[encoded data removed]",
      "text/plain": [
       "<Figure size 1080x720 with 9 Axes>"
      ]
     },
     "metadata": {},
     "output_type": "display_data"
    }
   ],
   "source": [
    "# Visualize numerical features on a histogram\n",
    "credit[list(filter(lambda x: x != 'loan_status', credit_num_cols))].hist(bins=20, figsize=(15, 10))\n",
    "plt.show()"
   ]
  },
  {
   "cell_type": "code",
   "execution_count": 20,
   "id": "afd3c395",
   "metadata": {},
   "outputs": [
    {
     "data": {
      "text/html": [
       "<div>\n",
       "<style scoped>\n",
       "    .dataframe tbody tr th:only-of-type {\n",
       "        vertical-align: middle;\n",
       "    }\n",
       "\n",
       "    .dataframe tbody tr th {\n",
       "        vertical-align: top;\n",
       "    }\n",
       "\n",
       "    .dataframe thead th {\n",
       "        text-align: right;\n",
       "    }\n",
       "</style>\n",
       "<table border=\"1\" class=\"dataframe\">\n",
       "  <thead>\n",
       "    <tr style=\"text-align: right;\">\n",
       "      <th></th>\n",
       "      <th>person_age</th>\n",
       "      <th>person_income</th>\n",
       "      <th>person_emp_length</th>\n",
       "      <th>loan_amnt</th>\n",
       "      <th>loan_int_rate</th>\n",
       "      <th>loan_status</th>\n",
       "      <th>loan_percent_income</th>\n",
       "      <th>cb_person_cred_hist_length</th>\n",
       "    </tr>\n",
       "  </thead>\n",
       "  <tbody>\n",
       "    <tr>\n",
       "      <th>person_age</th>\n",
       "      <td>1.000000</td>\n",
       "      <td>0.173202</td>\n",
       "      <td>0.163106</td>\n",
       "      <td>0.050787</td>\n",
       "      <td>0.012580</td>\n",
       "      <td>0.021629</td>\n",
       "      <td>0.042411</td>\n",
       "      <td>0.859133</td>\n",
       "    </tr>\n",
       "    <tr>\n",
       "      <th>person_income</th>\n",
       "      <td>0.173202</td>\n",
       "      <td>1.000000</td>\n",
       "      <td>0.134268</td>\n",
       "      <td>0.266820</td>\n",
       "      <td>0.000792</td>\n",
       "      <td>0.144449</td>\n",
       "      <td>0.254471</td>\n",
       "      <td>0.117987</td>\n",
       "    </tr>\n",
       "    <tr>\n",
       "      <th>person_emp_length</th>\n",
       "      <td>0.163106</td>\n",
       "      <td>0.134268</td>\n",
       "      <td>1.000000</td>\n",
       "      <td>0.113082</td>\n",
       "      <td>0.056405</td>\n",
       "      <td>0.082489</td>\n",
       "      <td>0.054111</td>\n",
       "      <td>0.144699</td>\n",
       "    </tr>\n",
       "    <tr>\n",
       "      <th>loan_amnt</th>\n",
       "      <td>0.050787</td>\n",
       "      <td>0.266820</td>\n",
       "      <td>0.113082</td>\n",
       "      <td>1.000000</td>\n",
       "      <td>0.146813</td>\n",
       "      <td>0.105376</td>\n",
       "      <td>0.572612</td>\n",
       "      <td>0.041967</td>\n",
       "    </tr>\n",
       "    <tr>\n",
       "      <th>loan_int_rate</th>\n",
       "      <td>0.012580</td>\n",
       "      <td>0.000792</td>\n",
       "      <td>0.056405</td>\n",
       "      <td>0.146813</td>\n",
       "      <td>1.000000</td>\n",
       "      <td>0.335133</td>\n",
       "      <td>0.120314</td>\n",
       "      <td>0.016696</td>\n",
       "    </tr>\n",
       "    <tr>\n",
       "      <th>loan_status</th>\n",
       "      <td>0.021629</td>\n",
       "      <td>0.144449</td>\n",
       "      <td>0.082489</td>\n",
       "      <td>0.105376</td>\n",
       "      <td>0.335133</td>\n",
       "      <td>1.000000</td>\n",
       "      <td>0.379366</td>\n",
       "      <td>0.015529</td>\n",
       "    </tr>\n",
       "    <tr>\n",
       "      <th>loan_percent_income</th>\n",
       "      <td>0.042411</td>\n",
       "      <td>0.254471</td>\n",
       "      <td>0.054111</td>\n",
       "      <td>0.572612</td>\n",
       "      <td>0.120314</td>\n",
       "      <td>0.379366</td>\n",
       "      <td>1.000000</td>\n",
       "      <td>0.031690</td>\n",
       "    </tr>\n",
       "    <tr>\n",
       "      <th>cb_person_cred_hist_length</th>\n",
       "      <td>0.859133</td>\n",
       "      <td>0.117987</td>\n",
       "      <td>0.144699</td>\n",
       "      <td>0.041967</td>\n",
       "      <td>0.016696</td>\n",
       "      <td>0.015529</td>\n",
       "      <td>0.031690</td>\n",
       "      <td>1.000000</td>\n",
       "    </tr>\n",
       "  </tbody>\n",
       "</table>\n",
       "</div>"
      ],
      "text/plain": [
       "                            person_age  person_income  person_emp_length  \\\n",
       "person_age                    1.000000       0.173202           0.163106   \n",
       "person_income                 0.173202       1.000000           0.134268   \n",
       "person_emp_length             0.163106       0.134268           1.000000   \n",
       "loan_amnt                     0.050787       0.266820           0.113082   \n",
       "loan_int_rate                 0.012580       0.000792           0.056405   \n",
       "loan_status                   0.021629       0.144449           0.082489   \n",
       "loan_percent_income           0.042411       0.254471           0.054111   \n",
       "cb_person_cred_hist_length    0.859133       0.117987           0.144699   \n",
       "\n",
       "                            loan_amnt  loan_int_rate  loan_status  \\\n",
       "person_age                   0.050787       0.012580     0.021629   \n",
       "person_income                0.266820       0.000792     0.144449   \n",
       "person_emp_length            0.113082       0.056405     0.082489   \n",
       "loan_amnt                    1.000000       0.146813     0.105376   \n",
       "loan_int_rate                0.146813       1.000000     0.335133   \n",
       "loan_status                  0.105376       0.335133     1.000000   \n",
       "loan_percent_income          0.572612       0.120314     0.379366   \n",
       "cb_person_cred_hist_length   0.041967       0.016696     0.015529   \n",
       "\n",
       "                            loan_percent_income  cb_person_cred_hist_length  \n",
       "person_age                             0.042411                    0.859133  \n",
       "person_income                          0.254471                    0.117987  \n",
       "person_emp_length                      0.054111                    0.144699  \n",
       "loan_amnt                              0.572612                    0.041967  \n",
       "loan_int_rate                          0.120314                    0.016696  \n",
       "loan_status                            0.379366                    0.015529  \n",
       "loan_percent_income                    1.000000                    0.031690  \n",
       "cb_person_cred_hist_length             0.031690                    1.000000  "
      ]
     },
     "execution_count": 20,
     "metadata": {},
     "output_type": "execute_result"
    }
   ],
   "source": [
    "# Generate correlation (Pearson's) matrix to gain more insight into the relationship between quantitative variables\n",
    "# in the dataset \n",
    "corr_matrix = credit.corr().abs()\n",
    "corr_matrix"
   ]
  },
  {
   "cell_type": "code",
   "execution_count": 21,
   "id": "f919cb82",
   "metadata": {},
   "outputs": [
    {
     "data": {
      "text/plain": [
       "loan_percent_income           0.379366\n",
       "loan_int_rate                 0.335133\n",
       "person_income                 0.144449\n",
       "loan_amnt                     0.105376\n",
       "person_emp_length             0.082489\n",
       "person_age                    0.021629\n",
       "cb_person_cred_hist_length    0.015529\n",
       "Name: loan_status, dtype: float64"
      ]
     },
     "execution_count": 21,
     "metadata": {},
     "output_type": "execute_result"
    }
   ],
   "source": [
    "# Inspect how the target variable correlates with other quantitative features in the dataset\n",
    "corr_matrix['loan_status'].sort_values(ascending=False)[1:]"
   ]
  },
  {
   "cell_type": "code",
   "execution_count": 22,
   "id": "dccc87ee",
   "metadata": {},
   "outputs": [
    {
     "data": {
      "text/plain": [
       "[]"
      ]
     },
     "execution_count": 22,
     "metadata": {},
     "output_type": "execute_result"
    },
    {
     "data": {
      "image/png": "[encoded data removed]",
      "text/plain": [
       "<Figure size 576x576 with 2 Axes>"
      ]
     },
     "metadata": {},
     "output_type": "display_data"
    }
   ],
   "source": [
    "# Visualize the correlation matrix on a heatmap for better and easier interpretation of the relationships between\n",
    "# each and every variable\n",
    "ax = plt.figure(figsize=(8, 8))\n",
    "ax = sns.heatmap(corr_matrix, annot=True)\n",
    "plt.plot()"
   ]
  },
  {
   "cell_type": "markdown",
   "id": "381d7552",
   "metadata": {},
   "source": [
    "### <font color='green'>Categorical Variables</font>"
   ]
  },
  {
   "cell_type": "code",
   "execution_count": 23,
   "id": "7c7cf0ae",
   "metadata": {},
   "outputs": [
    {
     "data": {
      "text/html": [
       "<div>\n",
       "<style scoped>\n",
       "    .dataframe tbody tr th:only-of-type {\n",
       "        vertical-align: middle;\n",
       "    }\n",
       "\n",
       "    .dataframe tbody tr th {\n",
       "        vertical-align: top;\n",
       "    }\n",
       "\n",
       "    .dataframe thead th {\n",
       "        text-align: right;\n",
       "    }\n",
       "</style>\n",
       "<table border=\"1\" class=\"dataframe\">\n",
       "  <thead>\n",
       "    <tr style=\"text-align: right;\">\n",
       "      <th></th>\n",
       "      <th>person_home_ownership</th>\n",
       "      <th>loan_intent</th>\n",
       "      <th>loan_grade</th>\n",
       "      <th>cb_person_default_on_file</th>\n",
       "    </tr>\n",
       "  </thead>\n",
       "  <tbody>\n",
       "    <tr>\n",
       "      <th>0</th>\n",
       "      <td>RENT</td>\n",
       "      <td>PERSONAL</td>\n",
       "      <td>D</td>\n",
       "      <td>Y</td>\n",
       "    </tr>\n",
       "    <tr>\n",
       "      <th>1</th>\n",
       "      <td>OWN</td>\n",
       "      <td>EDUCATION</td>\n",
       "      <td>B</td>\n",
       "      <td>N</td>\n",
       "    </tr>\n",
       "    <tr>\n",
       "      <th>2</th>\n",
       "      <td>MORTGAGE</td>\n",
       "      <td>MEDICAL</td>\n",
       "      <td>C</td>\n",
       "      <td>N</td>\n",
       "    </tr>\n",
       "    <tr>\n",
       "      <th>3</th>\n",
       "      <td>RENT</td>\n",
       "      <td>MEDICAL</td>\n",
       "      <td>C</td>\n",
       "      <td>N</td>\n",
       "    </tr>\n",
       "    <tr>\n",
       "      <th>4</th>\n",
       "      <td>RENT</td>\n",
       "      <td>MEDICAL</td>\n",
       "      <td>C</td>\n",
       "      <td>Y</td>\n",
       "    </tr>\n",
       "  </tbody>\n",
       "</table>\n",
       "</div>"
      ],
      "text/plain": [
       "  person_home_ownership loan_intent loan_grade cb_person_default_on_file\n",
       "0                  RENT    PERSONAL          D                         Y\n",
       "1                   OWN   EDUCATION          B                         N\n",
       "2              MORTGAGE     MEDICAL          C                         N\n",
       "3                  RENT     MEDICAL          C                         N\n",
       "4                  RENT     MEDICAL          C                         Y"
      ]
     },
     "execution_count": 23,
     "metadata": {},
     "output_type": "execute_result"
    }
   ],
   "source": [
    "# Select only categorical variables from the DataFrame\n",
    "credit_cat = credit.select_dtypes(include=['object'])\n",
    "credit_cat.head()"
   ]
  },
  {
   "cell_type": "code",
   "execution_count": 24,
   "id": "25db0ab3",
   "metadata": {},
   "outputs": [
    {
     "data": {
      "text/html": [
       "<div>\n",
       "<style scoped>\n",
       "    .dataframe tbody tr th:only-of-type {\n",
       "        vertical-align: middle;\n",
       "    }\n",
       "\n",
       "    .dataframe tbody tr th {\n",
       "        vertical-align: top;\n",
       "    }\n",
       "\n",
       "    .dataframe thead th {\n",
       "        text-align: right;\n",
       "    }\n",
       "</style>\n",
       "<table border=\"1\" class=\"dataframe\">\n",
       "  <thead>\n",
       "    <tr style=\"text-align: right;\">\n",
       "      <th></th>\n",
       "      <th>person_home_ownership</th>\n",
       "      <th>loan_intent</th>\n",
       "      <th>loan_grade</th>\n",
       "      <th>cb_person_default_on_file</th>\n",
       "    </tr>\n",
       "  </thead>\n",
       "  <tbody>\n",
       "    <tr>\n",
       "      <th>count</th>\n",
       "      <td>32581</td>\n",
       "      <td>32581</td>\n",
       "      <td>32581</td>\n",
       "      <td>32581</td>\n",
       "    </tr>\n",
       "    <tr>\n",
       "      <th>unique</th>\n",
       "      <td>4</td>\n",
       "      <td>6</td>\n",
       "      <td>7</td>\n",
       "      <td>2</td>\n",
       "    </tr>\n",
       "    <tr>\n",
       "      <th>top</th>\n",
       "      <td>RENT</td>\n",
       "      <td>EDUCATION</td>\n",
       "      <td>A</td>\n",
       "      <td>N</td>\n",
       "    </tr>\n",
       "    <tr>\n",
       "      <th>freq</th>\n",
       "      <td>16446</td>\n",
       "      <td>6453</td>\n",
       "      <td>10777</td>\n",
       "      <td>26836</td>\n",
       "    </tr>\n",
       "  </tbody>\n",
       "</table>\n",
       "</div>"
      ],
      "text/plain": [
       "       person_home_ownership loan_intent loan_grade cb_person_default_on_file\n",
       "count                  32581       32581      32581                     32581\n",
       "unique                     4           6          7                         2\n",
       "top                     RENT   EDUCATION          A                         N\n",
       "freq                   16446        6453      10777                     26836"
      ]
     },
     "execution_count": 24,
     "metadata": {},
     "output_type": "execute_result"
    }
   ],
   "source": [
    "# Get summary statistics for the categorical features representing (count, number of unique values, the mode and\n",
    "# the frequency of the most common element)\n",
    "credit_cat.describe()"
   ]
  },
  {
   "cell_type": "code",
   "execution_count": 25,
   "id": "b214de2f",
   "metadata": {},
   "outputs": [
    {
     "data": {
      "text/plain": [
       "Index(['person_home_ownership', 'loan_intent', 'loan_grade',\n",
       "       'cb_person_default_on_file'],\n",
       "      dtype='object')"
      ]
     },
     "execution_count": 25,
     "metadata": {},
     "output_type": "execute_result"
    }
   ],
   "source": [
    "# Save the column names for categorical features into a variable\n",
    "credit_cat_cols = credit_cat.columns\n",
    "credit_cat_cols"
   ]
  },
  {
   "cell_type": "code",
   "execution_count": 26,
   "id": "d53df0ae",
   "metadata": {},
   "outputs": [
    {
     "data": {
      "text/plain": [
       "33.3"
      ]
     },
     "execution_count": 26,
     "metadata": {},
     "output_type": "execute_result"
    }
   ],
   "source": [
    "# Poroportion of categorical columns in the data set\n",
    "round(len(credit_cat_cols) / len(credit.columns) * 100, 1)"
   ]
  },
  {
   "cell_type": "code",
   "execution_count": 27,
   "id": "b464e4f7",
   "metadata": {},
   "outputs": [
    {
     "name": "stdout",
     "output_type": "stream",
     "text": [
      "['RENT' 'OWN' 'MORTGAGE' 'OTHER']\n",
      "['PERSONAL' 'EDUCATION' 'MEDICAL' 'VENTURE' 'HOMEIMPROVEMENT'\n",
      " 'DEBTCONSOLIDATION']\n",
      "['D' 'B' 'C' 'A' 'E' 'F' 'G']\n",
      "['Y' 'N']\n"
     ]
    }
   ],
   "source": [
    "# Check the unique values for each categorical feature\n",
    "for col in credit_cat_cols:\n",
    "    print(credit_cat[col].unique())"
   ]
  },
  {
   "cell_type": "code",
   "execution_count": 28,
   "id": "4442dc23",
   "metadata": {},
   "outputs": [
    {
     "data": {
      "image/png": "[encoded data removed]",
      "text/plain": [
       "<Figure size 1512x1512 with 4 Axes>"
      ]
     },
     "metadata": {},
     "output_type": "display_data"
    }
   ],
   "source": [
    "# Visualize the proportion of values for each categorical feature\n",
    "plt.figure(figsize=(21, 21))\n",
    "# plt.tight_layout()\n",
    "for i in range(len(credit_cat_cols)):\n",
    "    ax = plt.subplot(2, 2, i + 1)\n",
    "    ax = sns.countplot(data=credit_cat, x=credit_cat[credit_cat_cols[i]])\n",
    "    # To avoid overlapping labels for loan intent rotate labels to the right:\n",
    "    if credit_cat_cols[i] == 'loan_intent':\n",
    "        ax.set_xticklabels(ax.get_xticklabels(), rotation=25, ha='right')"
   ]
  },
  {
   "cell_type": "code",
   "execution_count": 29,
   "id": "7165428a",
   "metadata": {},
   "outputs": [
    {
     "data": {
      "image/png": "[encoded data removed]",
      "text/plain": [
       "<Figure size 1512x1512 with 4 Axes>"
      ]
     },
     "metadata": {},
     "output_type": "display_data"
    }
   ],
   "source": [
    "# Visualize the proportion of categorical values in terms of the target variable\n",
    "plt.figure(figsize=(21, 21))\n",
    "# plt.tight_layout()\n",
    "for i in range(len(credit_cat_cols)):\n",
    "    ax = plt.subplot(2, 2, i + 1)\n",
    "    ax = sns.countplot(data=credit_cat, x=credit_cat[credit_cat_cols[i]], hue=credit['loan_status'])\n",
    "    # To avoid overlapping labels for loan intent rotate labels to the right:\n",
    "    if credit_cat_cols[i] == 'loan_intent':\n",
    "        ax.set_xticklabels(ax.get_xticklabels(), rotation=25, ha='right')"
   ]
  },
  {
   "cell_type": "markdown",
   "id": "076dbdb4",
   "metadata": {},
   "source": [
    "## Data Pre-processing"
   ]
  },
  {
   "cell_type": "markdown",
   "id": "8c63abc2",
   "metadata": {},
   "source": [
    "### <font color='green'>Handling Missing Values</font>"
   ]
  },
  {
   "cell_type": "code",
   "execution_count": 30,
   "id": "f5e85fcc",
   "metadata": {},
   "outputs": [
    {
     "name": "stdout",
     "output_type": "stream",
     "text": [
      "Column name: person_emp_length\n",
      "Number of missing values: 895\n",
      "Percentage of missing values: 2.7469997851508547%\n",
      "\n",
      "Column name: loan_int_rate\n",
      "Number of missing values: 3116\n",
      "Percentage of missing values: 9.563856235229121%\n",
      "\n"
     ]
    }
   ],
   "source": [
    "# Output the number of missing values where applicable along with the percentage of missing values compared to the \n",
    "# total number of values for the feature\n",
    "credit_missing_cols = []  # Create a list to store columns with missing values\n",
    "for col in columns:\n",
    "    if (credit[col].isnull().sum() > 0):\n",
    "        credit_missing_cols.append(col)  # Add the column name to the list\n",
    "        print(f'Column name: {col}\\nNumber of missing values: {credit[col].isnull().sum()}\\nPercentage of missing values: {credit[col].isnull().sum() / len(credit) * 100}%\\n')"
   ]
  },
  {
   "cell_type": "code",
   "execution_count": 31,
   "id": "04af02dd",
   "metadata": {},
   "outputs": [
    {
     "name": "stdout",
     "output_type": "stream",
     "text": [
      "Columns with missing values: ['person_emp_length', 'loan_int_rate']\n"
     ]
    }
   ],
   "source": [
    "print(f'Columns with missing values: {credit_missing_cols}')"
   ]
  },
  {
   "cell_type": "code",
   "execution_count": 32,
   "id": "a51056c7",
   "metadata": {},
   "outputs": [
    {
     "data": {
      "text/html": [
       "<div>\n",
       "<style scoped>\n",
       "    .dataframe tbody tr th:only-of-type {\n",
       "        vertical-align: middle;\n",
       "    }\n",
       "\n",
       "    .dataframe tbody tr th {\n",
       "        vertical-align: top;\n",
       "    }\n",
       "\n",
       "    .dataframe thead th {\n",
       "        text-align: right;\n",
       "    }\n",
       "</style>\n",
       "<table border=\"1\" class=\"dataframe\">\n",
       "  <thead>\n",
       "    <tr style=\"text-align: right;\">\n",
       "      <th></th>\n",
       "      <th>person_emp_length</th>\n",
       "      <th>loan_int_rate</th>\n",
       "    </tr>\n",
       "  </thead>\n",
       "  <tbody>\n",
       "    <tr>\n",
       "      <th>0</th>\n",
       "      <td>123.0</td>\n",
       "      <td>16.02</td>\n",
       "    </tr>\n",
       "    <tr>\n",
       "      <th>1</th>\n",
       "      <td>5.0</td>\n",
       "      <td>11.14</td>\n",
       "    </tr>\n",
       "    <tr>\n",
       "      <th>2</th>\n",
       "      <td>1.0</td>\n",
       "      <td>12.87</td>\n",
       "    </tr>\n",
       "    <tr>\n",
       "      <th>3</th>\n",
       "      <td>4.0</td>\n",
       "      <td>15.23</td>\n",
       "    </tr>\n",
       "    <tr>\n",
       "      <th>4</th>\n",
       "      <td>8.0</td>\n",
       "      <td>14.27</td>\n",
       "    </tr>\n",
       "    <tr>\n",
       "      <th>...</th>\n",
       "      <td>...</td>\n",
       "      <td>...</td>\n",
       "    </tr>\n",
       "    <tr>\n",
       "      <th>32576</th>\n",
       "      <td>1.0</td>\n",
       "      <td>13.16</td>\n",
       "    </tr>\n",
       "    <tr>\n",
       "      <th>32577</th>\n",
       "      <td>4.0</td>\n",
       "      <td>7.49</td>\n",
       "    </tr>\n",
       "    <tr>\n",
       "      <th>32578</th>\n",
       "      <td>3.0</td>\n",
       "      <td>10.99</td>\n",
       "    </tr>\n",
       "    <tr>\n",
       "      <th>32579</th>\n",
       "      <td>5.0</td>\n",
       "      <td>11.48</td>\n",
       "    </tr>\n",
       "    <tr>\n",
       "      <th>32580</th>\n",
       "      <td>2.0</td>\n",
       "      <td>9.99</td>\n",
       "    </tr>\n",
       "  </tbody>\n",
       "</table>\n",
       "<p>32581 rows × 2 columns</p>\n",
       "</div>"
      ],
      "text/plain": [
       "       person_emp_length  loan_int_rate\n",
       "0                  123.0          16.02\n",
       "1                    5.0          11.14\n",
       "2                    1.0          12.87\n",
       "3                    4.0          15.23\n",
       "4                    8.0          14.27\n",
       "...                  ...            ...\n",
       "32576                1.0          13.16\n",
       "32577                4.0           7.49\n",
       "32578                3.0          10.99\n",
       "32579                5.0          11.48\n",
       "32580                2.0           9.99\n",
       "\n",
       "[32581 rows x 2 columns]"
      ]
     },
     "execution_count": 32,
     "metadata": {},
     "output_type": "execute_result"
    }
   ],
   "source": [
    "credit[['person_emp_length', 'loan_int_rate']]"
   ]
  },
  {
   "cell_type": "code",
   "execution_count": 33,
   "id": "6c228d2b",
   "metadata": {},
   "outputs": [
    {
     "data": {
      "text/html": [
       "<div>\n",
       "<style scoped>\n",
       "    .dataframe tbody tr th:only-of-type {\n",
       "        vertical-align: middle;\n",
       "    }\n",
       "\n",
       "    .dataframe tbody tr th {\n",
       "        vertical-align: top;\n",
       "    }\n",
       "\n",
       "    .dataframe thead th {\n",
       "        text-align: right;\n",
       "    }\n",
       "</style>\n",
       "<table border=\"1\" class=\"dataframe\">\n",
       "  <thead>\n",
       "    <tr style=\"text-align: right;\">\n",
       "      <th></th>\n",
       "      <th>person_emp_length</th>\n",
       "      <th>loan_int_rate</th>\n",
       "    </tr>\n",
       "  </thead>\n",
       "  <tbody>\n",
       "    <tr>\n",
       "      <th>count</th>\n",
       "      <td>31686.000000</td>\n",
       "      <td>29465.000000</td>\n",
       "    </tr>\n",
       "    <tr>\n",
       "      <th>mean</th>\n",
       "      <td>4.789686</td>\n",
       "      <td>11.011695</td>\n",
       "    </tr>\n",
       "    <tr>\n",
       "      <th>std</th>\n",
       "      <td>4.142630</td>\n",
       "      <td>3.240459</td>\n",
       "    </tr>\n",
       "    <tr>\n",
       "      <th>min</th>\n",
       "      <td>0.000000</td>\n",
       "      <td>5.420000</td>\n",
       "    </tr>\n",
       "    <tr>\n",
       "      <th>25%</th>\n",
       "      <td>2.000000</td>\n",
       "      <td>7.900000</td>\n",
       "    </tr>\n",
       "    <tr>\n",
       "      <th>50%</th>\n",
       "      <td>4.000000</td>\n",
       "      <td>10.990000</td>\n",
       "    </tr>\n",
       "    <tr>\n",
       "      <th>75%</th>\n",
       "      <td>7.000000</td>\n",
       "      <td>13.470000</td>\n",
       "    </tr>\n",
       "    <tr>\n",
       "      <th>max</th>\n",
       "      <td>123.000000</td>\n",
       "      <td>23.220000</td>\n",
       "    </tr>\n",
       "  </tbody>\n",
       "</table>\n",
       "</div>"
      ],
      "text/plain": [
       "       person_emp_length  loan_int_rate\n",
       "count       31686.000000   29465.000000\n",
       "mean            4.789686      11.011695\n",
       "std             4.142630       3.240459\n",
       "min             0.000000       5.420000\n",
       "25%             2.000000       7.900000\n",
       "50%             4.000000      10.990000\n",
       "75%             7.000000      13.470000\n",
       "max           123.000000      23.220000"
      ]
     },
     "execution_count": 33,
     "metadata": {},
     "output_type": "execute_result"
    }
   ],
   "source": [
    "credit[['person_emp_length', 'loan_int_rate']].describe()"
   ]
  },
  {
   "cell_type": "code",
   "execution_count": 34,
   "id": "e77f66d8",
   "metadata": {},
   "outputs": [
    {
     "data": {
      "text/html": [
       "<div>\n",
       "<style scoped>\n",
       "    .dataframe tbody tr th:only-of-type {\n",
       "        vertical-align: middle;\n",
       "    }\n",
       "\n",
       "    .dataframe tbody tr th {\n",
       "        vertical-align: top;\n",
       "    }\n",
       "\n",
       "    .dataframe thead th {\n",
       "        text-align: right;\n",
       "    }\n",
       "</style>\n",
       "<table border=\"1\" class=\"dataframe\">\n",
       "  <thead>\n",
       "    <tr style=\"text-align: right;\">\n",
       "      <th></th>\n",
       "      <th>person_age</th>\n",
       "      <th>person_income</th>\n",
       "      <th>person_emp_length</th>\n",
       "      <th>loan_amnt</th>\n",
       "      <th>loan_int_rate</th>\n",
       "      <th>loan_status</th>\n",
       "      <th>loan_percent_income</th>\n",
       "      <th>cb_person_cred_hist_length</th>\n",
       "    </tr>\n",
       "  </thead>\n",
       "  <tbody>\n",
       "    <tr>\n",
       "      <th>person_age</th>\n",
       "      <td>1.000000</td>\n",
       "      <td>0.173202</td>\n",
       "      <td>0.163106</td>\n",
       "      <td>0.050787</td>\n",
       "      <td>0.012580</td>\n",
       "      <td>0.021629</td>\n",
       "      <td>0.042411</td>\n",
       "      <td>0.859133</td>\n",
       "    </tr>\n",
       "    <tr>\n",
       "      <th>person_income</th>\n",
       "      <td>0.173202</td>\n",
       "      <td>1.000000</td>\n",
       "      <td>0.134268</td>\n",
       "      <td>0.266820</td>\n",
       "      <td>0.000792</td>\n",
       "      <td>0.144449</td>\n",
       "      <td>0.254471</td>\n",
       "      <td>0.117987</td>\n",
       "    </tr>\n",
       "    <tr>\n",
       "      <th>person_emp_length</th>\n",
       "      <td>0.163106</td>\n",
       "      <td>0.134268</td>\n",
       "      <td>1.000000</td>\n",
       "      <td>0.113082</td>\n",
       "      <td>0.056405</td>\n",
       "      <td>0.082489</td>\n",
       "      <td>0.054111</td>\n",
       "      <td>0.144699</td>\n",
       "    </tr>\n",
       "    <tr>\n",
       "      <th>loan_amnt</th>\n",
       "      <td>0.050787</td>\n",
       "      <td>0.266820</td>\n",
       "      <td>0.113082</td>\n",
       "      <td>1.000000</td>\n",
       "      <td>0.146813</td>\n",
       "      <td>0.105376</td>\n",
       "      <td>0.572612</td>\n",
       "      <td>0.041967</td>\n",
       "    </tr>\n",
       "    <tr>\n",
       "      <th>loan_int_rate</th>\n",
       "      <td>0.012580</td>\n",
       "      <td>0.000792</td>\n",
       "      <td>0.056405</td>\n",
       "      <td>0.146813</td>\n",
       "      <td>1.000000</td>\n",
       "      <td>0.335133</td>\n",
       "      <td>0.120314</td>\n",
       "      <td>0.016696</td>\n",
       "    </tr>\n",
       "    <tr>\n",
       "      <th>loan_status</th>\n",
       "      <td>0.021629</td>\n",
       "      <td>0.144449</td>\n",
       "      <td>0.082489</td>\n",
       "      <td>0.105376</td>\n",
       "      <td>0.335133</td>\n",
       "      <td>1.000000</td>\n",
       "      <td>0.379366</td>\n",
       "      <td>0.015529</td>\n",
       "    </tr>\n",
       "    <tr>\n",
       "      <th>loan_percent_income</th>\n",
       "      <td>0.042411</td>\n",
       "      <td>0.254471</td>\n",
       "      <td>0.054111</td>\n",
       "      <td>0.572612</td>\n",
       "      <td>0.120314</td>\n",
       "      <td>0.379366</td>\n",
       "      <td>1.000000</td>\n",
       "      <td>0.031690</td>\n",
       "    </tr>\n",
       "    <tr>\n",
       "      <th>cb_person_cred_hist_length</th>\n",
       "      <td>0.859133</td>\n",
       "      <td>0.117987</td>\n",
       "      <td>0.144699</td>\n",
       "      <td>0.041967</td>\n",
       "      <td>0.016696</td>\n",
       "      <td>0.015529</td>\n",
       "      <td>0.031690</td>\n",
       "      <td>1.000000</td>\n",
       "    </tr>\n",
       "  </tbody>\n",
       "</table>\n",
       "</div>"
      ],
      "text/plain": [
       "                            person_age  person_income  person_emp_length  \\\n",
       "person_age                    1.000000       0.173202           0.163106   \n",
       "person_income                 0.173202       1.000000           0.134268   \n",
       "person_emp_length             0.163106       0.134268           1.000000   \n",
       "loan_amnt                     0.050787       0.266820           0.113082   \n",
       "loan_int_rate                 0.012580       0.000792           0.056405   \n",
       "loan_status                   0.021629       0.144449           0.082489   \n",
       "loan_percent_income           0.042411       0.254471           0.054111   \n",
       "cb_person_cred_hist_length    0.859133       0.117987           0.144699   \n",
       "\n",
       "                            loan_amnt  loan_int_rate  loan_status  \\\n",
       "person_age                   0.050787       0.012580     0.021629   \n",
       "person_income                0.266820       0.000792     0.144449   \n",
       "person_emp_length            0.113082       0.056405     0.082489   \n",
       "loan_amnt                    1.000000       0.146813     0.105376   \n",
       "loan_int_rate                0.146813       1.000000     0.335133   \n",
       "loan_status                  0.105376       0.335133     1.000000   \n",
       "loan_percent_income          0.572612       0.120314     0.379366   \n",
       "cb_person_cred_hist_length   0.041967       0.016696     0.015529   \n",
       "\n",
       "                            loan_percent_income  cb_person_cred_hist_length  \n",
       "person_age                             0.042411                    0.859133  \n",
       "person_income                          0.254471                    0.117987  \n",
       "person_emp_length                      0.054111                    0.144699  \n",
       "loan_amnt                              0.572612                    0.041967  \n",
       "loan_int_rate                          0.120314                    0.016696  \n",
       "loan_status                            0.379366                    0.015529  \n",
       "loan_percent_income                    1.000000                    0.031690  \n",
       "cb_person_cred_hist_length             0.031690                    1.000000  "
      ]
     },
     "execution_count": 34,
     "metadata": {},
     "output_type": "execute_result"
    }
   ],
   "source": [
    "corr_matrix"
   ]
  },
  {
   "cell_type": "code",
   "execution_count": 35,
   "id": "88c77446",
   "metadata": {},
   "outputs": [
    {
     "data": {
      "text/plain": [
       "person_emp_length    0.082489\n",
       "loan_int_rate        0.335133\n",
       "Name: loan_status, dtype: float64"
      ]
     },
     "execution_count": 35,
     "metadata": {},
     "output_type": "execute_result"
    }
   ],
   "source": [
    "# Check how the features correlate with the target feature\n",
    "corr_matrix['loan_status'].loc[['person_emp_length', 'loan_int_rate']]"
   ]
  },
  {
   "cell_type": "code",
   "execution_count": 36,
   "id": "ee28eca2",
   "metadata": {},
   "outputs": [],
   "source": [
    "# As shown above, there is almost no correlation between the employment length and the target variable, hence the\n",
    "# observations with missing employment length value will be removed\n",
    "credit.dropna(subset=['person_emp_length'], inplace=True)"
   ]
  },
  {
   "cell_type": "code",
   "execution_count": 37,
   "id": "86565c47",
   "metadata": {},
   "outputs": [
    {
     "data": {
      "text/plain": [
       "person_age                       0\n",
       "person_income                    0\n",
       "person_home_ownership            0\n",
       "person_emp_length                0\n",
       "loan_intent                      0\n",
       "loan_grade                       0\n",
       "loan_amnt                        0\n",
       "loan_int_rate                 3048\n",
       "loan_status                      0\n",
       "loan_percent_income              0\n",
       "cb_person_default_on_file        0\n",
       "cb_person_cred_hist_length       0\n",
       "dtype: int64"
      ]
     },
     "execution_count": 37,
     "metadata": {},
     "output_type": "execute_result"
    }
   ],
   "source": [
    "credit.isnull().sum()"
   ]
  },
  {
   "cell_type": "code",
   "execution_count": 46,
   "id": "a95a9865",
   "metadata": {},
   "outputs": [],
   "source": [
    "# The number of missing values for the employment length feature now is 0. As well the number of missing values for\n",
    "# the interest rate has also decreased, meaning that there were observations who were missing both value.\n",
    "# The interest rate feature is somewhat correlated with the target feature, however there are no apparent correlation\n",
    "# between interest rate and other features, which means interest rate is specified using extraneous circumstances\n",
    "# that are outside the scope of the dataset. Hence missing values for this feature will be filled with the most\n",
    "# frequent value in the variable\n",
    "\n",
    "# ! pip install scikit-learn\n",
    "from sklearn.impute import SimpleImputer\n",
    "\n",
    "imp_most_frequent = SimpleImputer(strategy='most_frequent')\n",
    "\n",
    "credit = pd.DataFrame(imp_most_frequent.fit_transform(credit))\n",
    "credit.columns = columns\n",
    "\n",
    "# Alternative solution - transforming only the single feature after reshaping the column to a 2D np array\n",
    "# credit['loan_int_rate'] = imp_most_frequent.fit_transform(credit['loan_int_rate'].values.reshape(-1, 1))\n"
   ]
  },
  {
   "cell_type": "code",
   "execution_count": 47,
   "id": "4be57612",
   "metadata": {},
   "outputs": [
    {
     "data": {
      "text/plain": [
       "person_age                    0\n",
       "person_income                 0\n",
       "person_home_ownership         0\n",
       "person_emp_length             0\n",
       "loan_intent                   0\n",
       "loan_grade                    0\n",
       "loan_amnt                     0\n",
       "loan_int_rate                 0\n",
       "loan_status                   0\n",
       "loan_percent_income           0\n",
       "cb_person_default_on_file     0\n",
       "cb_person_cred_hist_length    0\n",
       "dtype: int64"
      ]
     },
     "execution_count": 47,
     "metadata": {},
     "output_type": "execute_result"
    }
   ],
   "source": [
    "# Check if any missing values still remain in the dataset\n",
    "credit.isnull().sum()"
   ]
  },
  {
   "cell_type": "markdown",
   "id": "f2584182",
   "metadata": {},
   "source": [
    "### <font color='green'>Handling Outliers</font>"
   ]
  },
  {
   "cell_type": "markdown",
   "id": "902e7bbc",
   "metadata": {},
   "source": [
    "### <font color='green'>Encoding Categorical Variables</font>"
   ]
  },
  {
   "cell_type": "code",
   "execution_count": 40,
   "id": "da41c86e",
   "metadata": {},
   "outputs": [],
   "source": [
    "# credit['cb_person_default_on_file'].replace(['Y', 'N'], [1, 0], inplace=True)"
   ]
  }
 ],
 "metadata": {
  "kernelspec": {
   "display_name": "Python 3 (ipykernel)",
   "language": "python",
   "name": "python3"
  },
  "language_info": {
   "codemirror_mode": {
    "name": "ipython",
    "version": 3
   },
   "file_extension": ".py",
   "mimetype": "text/x-python",
   "name": "python",
   "nbconvert_exporter": "python",
   "pygments_lexer": "ipython3",
   "version": "3.8.10"
  }
 },
 "nbformat": 4,
 "nbformat_minor": 5
}
